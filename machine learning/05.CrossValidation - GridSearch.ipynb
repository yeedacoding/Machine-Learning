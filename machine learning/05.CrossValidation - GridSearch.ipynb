{
 "cells": [
  {
   "cell_type": "markdown",
   "metadata": {},
   "source": [
    "# 교차검증과 그리드 서치"
   ]
  },
  {
   "cell_type": "code",
   "execution_count": 18,
   "metadata": {},
   "outputs": [],
   "source": [
    "import pandas as pd\n",
    "\n",
    "red_url = \"https://raw.githubusercontent.com/PinkWink/ML_tutorial/master/dataset/winequality-red.csv\"\n",
    "white_url = \"https://raw.githubusercontent.com/PinkWink/ML_tutorial/master/dataset/winequality-white.csv\"\n",
    "\n",
    "red_wine = pd.read_csv(red_url, sep=';')\n",
    "white_wine = pd.read_csv(white_url, sep=';')\n",
    "\n",
    "red_wine['color'] = 1.\n",
    "white_wine['color'] = 0.\n",
    "\n",
    "wine = pd.concat([red_wine, white_wine])"
   ]
  },
  {
   "cell_type": "code",
   "execution_count": 19,
   "metadata": {},
   "outputs": [
    {
     "data": {
      "text/plain": [
       "((5197, 12), (1300, 12))"
      ]
     },
     "execution_count": 19,
     "metadata": {},
     "output_type": "execute_result"
    }
   ],
   "source": [
    "from sklearn.model_selection import train_test_split\n",
    "\n",
    "x = wine.drop(['color'], axis=1)\n",
    "y = wine['color']\n",
    "\n",
    "x_train, x_test, y_train, y_test = train_test_split(x, y,\n",
    "                                                    test_size=0.2,\n",
    "                                                    random_state=42)\n",
    "\n",
    "x_train.shape, x_test.shape"
   ]
  },
  {
   "cell_type": "code",
   "execution_count": 20,
   "metadata": {},
   "outputs": [
    {
     "data": {
      "text/plain": [
       "((4157, 12), (1040, 12))"
      ]
     },
     "execution_count": 20,
     "metadata": {},
     "output_type": "execute_result"
    }
   ],
   "source": [
    "sub_train, val_train, sub_target, val_target = train_test_split(x_train, y_train,\n",
    "                                                                test_size=0.2,\n",
    "                                                                random_state=42)\n",
    "\n",
    "sub_train.shape, val_train.shape"
   ]
  },
  {
   "cell_type": "code",
   "execution_count": 21,
   "metadata": {},
   "outputs": [
    {
     "name": "stdout",
     "output_type": "stream",
     "text": [
      "Train Acc :  0.9995188838104402\n",
      "Val Acc :  0.9865384615384616\n"
     ]
    }
   ],
   "source": [
    "from sklearn.tree import DecisionTreeClassifier\n",
    "from sklearn.metrics import accuracy_score\n",
    "\n",
    "dt = DecisionTreeClassifier(random_state=13)\n",
    "dt.fit(sub_train, sub_target)\n",
    "\n",
    "pred_tr = dt.predict(sub_train)\n",
    "pred_val = dt.predict(val_train)\n",
    "\n",
    "print(\"Train Acc : \", dt.score(sub_train, sub_target))\n",
    "print(\"Val Acc : \", dt.score(val_train, val_target))"
   ]
  },
  {
   "cell_type": "code",
   "execution_count": 13,
   "metadata": {},
   "outputs": [
    {
     "data": {
      "text/plain": [
       "[Text(0.43067748091603053, 0.9736842105263158, 'x[6] <= 70.5\\ngini = 0.375\\nsamples = 4157\\nvalue = [3117, 1040]'),\n",
       " Text(0.14249363867684478, 0.9210526315789473, 'x[4] <= 0.046\\ngini = 0.212\\nsamples = 961\\nvalue = [116, 845]'),\n",
       " Text(0.08142493638676845, 0.868421052631579, 'x[9] <= 0.555\\ngini = 0.174\\nsamples = 114\\nvalue = [103, 11]'),\n",
       " Text(0.03256997455470738, 0.8157894736842105, 'x[1] <= 0.662\\ngini = 0.022\\nsamples = 88\\nvalue = [87, 1]'),\n",
       " Text(0.01628498727735369, 0.7631578947368421, 'gini = 0.0\\nsamples = 85\\nvalue = [85, 0]'),\n",
       " Text(0.04885496183206107, 0.7631578947368421, 'x[4] <= 0.041\\ngini = 0.444\\nsamples = 3\\nvalue = [2, 1]'),\n",
       " Text(0.03256997455470738, 0.7105263157894737, 'gini = 0.0\\nsamples = 2\\nvalue = [2, 0]'),\n",
       " Text(0.06513994910941476, 0.7105263157894737, 'gini = 0.0\\nsamples = 1\\nvalue = [0, 1]'),\n",
       " Text(0.13027989821882952, 0.8157894736842105, 'x[1] <= 0.325\\ngini = 0.473\\nsamples = 26\\nvalue = [16, 10]'),\n",
       " Text(0.11399491094147583, 0.7631578947368421, 'x[6] <= 23.5\\ngini = 0.266\\nsamples = 19\\nvalue = [16, 3]'),\n",
       " Text(0.09770992366412214, 0.7105263157894737, 'gini = 0.0\\nsamples = 2\\nvalue = [0, 2]'),\n",
       " Text(0.13027989821882952, 0.7105263157894737, 'x[7] <= 0.996\\ngini = 0.111\\nsamples = 17\\nvalue = [16, 1]'),\n",
       " Text(0.11399491094147583, 0.6578947368421053, 'gini = 0.0\\nsamples = 16\\nvalue = [16, 0]'),\n",
       " Text(0.1465648854961832, 0.6578947368421053, 'gini = 0.0\\nsamples = 1\\nvalue = [0, 1]'),\n",
       " Text(0.1465648854961832, 0.7631578947368421, 'gini = 0.0\\nsamples = 7\\nvalue = [0, 7]'),\n",
       " Text(0.2035623409669211, 0.868421052631579, 'x[7] <= 0.991\\ngini = 0.03\\nsamples = 847\\nvalue = [13, 834]'),\n",
       " Text(0.18727735368956744, 0.8157894736842105, 'gini = 0.0\\nsamples = 4\\nvalue = [4, 0]'),\n",
       " Text(0.2198473282442748, 0.8157894736842105, 'x[9] <= 0.325\\ngini = 0.021\\nsamples = 843\\nvalue = [9, 834]'),\n",
       " Text(0.2035623409669211, 0.7631578947368421, 'gini = 0.0\\nsamples = 2\\nvalue = [2, 0]'),\n",
       " Text(0.2361323155216285, 0.7631578947368421, 'x[4] <= 0.052\\ngini = 0.017\\nsamples = 841\\nvalue = [7, 834]'),\n",
       " Text(0.19541984732824427, 0.7105263157894737, 'x[9] <= 0.475\\ngini = 0.346\\nsamples = 18\\nvalue = [4, 14]'),\n",
       " Text(0.17913486005089058, 0.6578947368421053, 'gini = 0.0\\nsamples = 4\\nvalue = [4, 0]'),\n",
       " Text(0.21170483460559797, 0.6578947368421053, 'gini = 0.0\\nsamples = 14\\nvalue = [0, 14]'),\n",
       " Text(0.2768447837150127, 0.7105263157894737, 'x[7] <= 0.993\\ngini = 0.007\\nsamples = 823\\nvalue = [3, 820]'),\n",
       " Text(0.24427480916030533, 0.6578947368421053, 'x[10] <= 11.15\\ngini = 0.278\\nsamples = 12\\nvalue = [2, 10]'),\n",
       " Text(0.22798982188295167, 0.6052631578947368, 'gini = 0.0\\nsamples = 2\\nvalue = [2, 0]'),\n",
       " Text(0.26055979643765903, 0.6052631578947368, 'gini = 0.0\\nsamples = 10\\nvalue = [0, 10]'),\n",
       " Text(0.3094147582697201, 0.6578947368421053, 'x[9] <= 0.455\\ngini = 0.002\\nsamples = 811\\nvalue = [1, 810]'),\n",
       " Text(0.2931297709923664, 0.6052631578947368, 'x[1] <= 0.3\\ngini = 0.069\\nsamples = 28\\nvalue = [1, 27]'),\n",
       " Text(0.2768447837150127, 0.5526315789473685, 'gini = 0.0\\nsamples = 1\\nvalue = [1, 0]'),\n",
       " Text(0.3094147582697201, 0.5526315789473685, 'gini = 0.0\\nsamples = 27\\nvalue = [0, 27]'),\n",
       " Text(0.3256997455470738, 0.6052631578947368, 'gini = 0.0\\nsamples = 783\\nvalue = [0, 783]'),\n",
       " Text(0.7188613231552163, 0.9210526315789473, 'x[4] <= 0.071\\ngini = 0.115\\nsamples = 3196\\nvalue = [3001, 195]'),\n",
       " Text(0.5883587786259542, 0.868421052631579, 'x[9] <= 1.115\\ngini = 0.021\\nsamples = 2909\\nvalue = [2878, 31]'),\n",
       " Text(0.5720737913486005, 0.8157894736842105, 'x[1] <= 1.012\\ngini = 0.02\\nsamples = 2907\\nvalue = [2878, 29]'),\n",
       " Text(0.5557888040712469, 0.7631578947368421, 'x[4] <= 0.065\\ngini = 0.018\\nsamples = 2905\\nvalue = [2878, 27]'),\n",
       " Text(0.43727735368956744, 0.7105263157894737, 'x[4] <= 0.013\\ngini = 0.013\\nsamples = 2859\\nvalue = [2840, 19]'),\n",
       " Text(0.3745547073791349, 0.6578947368421053, 'x[2] <= 0.2\\ngini = 0.5\\nsamples = 4\\nvalue = [2, 2]'),\n",
       " Text(0.35826972010178115, 0.6052631578947368, 'gini = 0.0\\nsamples = 1\\nvalue = [1, 0]'),\n",
       " Text(0.39083969465648855, 0.6052631578947368, 'gini = 0.444\\nsamples = 3\\nvalue = [1, 2]'),\n",
       " Text(0.5, 0.6578947368421053, 'x[9] <= 0.865\\ngini = 0.012\\nsamples = 2855\\nvalue = [2838, 17]'),\n",
       " Text(0.42340966921119594, 0.6052631578947368, 'x[2] <= 0.005\\ngini = 0.008\\nsamples = 2821\\nvalue = [2809, 12]'),\n",
       " Text(0.3669211195928753, 0.5526315789473685, 'x[8] <= 3.56\\ngini = 0.298\\nsamples = 11\\nvalue = [9, 2]'),\n",
       " Text(0.35063613231552165, 0.5, 'gini = 0.0\\nsamples = 9\\nvalue = [9, 0]'),\n",
       " Text(0.383206106870229, 0.5, 'gini = 0.0\\nsamples = 2\\nvalue = [0, 2]'),\n",
       " Text(0.47989821882951655, 0.5526315789473685, 'x[6] <= 275.0\\ngini = 0.007\\nsamples = 2810\\nvalue = [2800, 10]'),\n",
       " Text(0.4157760814249364, 0.5, 'x[2] <= 0.095\\ngini = 0.006\\nsamples = 2803\\nvalue = [2794, 9]'),\n",
       " Text(0.33638676844783716, 0.4473684210526316, 'x[10] <= 12.7\\ngini = 0.1\\nsamples = 38\\nvalue = [36, 2]'),\n",
       " Text(0.30381679389312977, 0.39473684210526316, 'x[6] <= 91.0\\ngini = 0.054\\nsamples = 36\\nvalue = [35, 1]'),\n",
       " Text(0.2875318066157761, 0.34210526315789475, 'x[11] <= 5.5\\ngini = 0.32\\nsamples = 5\\nvalue = [4, 1]'),\n",
       " Text(0.2712468193384224, 0.2894736842105263, 'gini = 0.0\\nsamples = 4\\nvalue = [4, 0]'),\n",
       " Text(0.30381679389312977, 0.2894736842105263, 'gini = 0.0\\nsamples = 1\\nvalue = [0, 1]'),\n",
       " Text(0.32010178117048343, 0.34210526315789475, 'gini = 0.0\\nsamples = 31\\nvalue = [31, 0]'),\n",
       " Text(0.36895674300254455, 0.39473684210526316, 'x[1] <= 0.555\\ngini = 0.5\\nsamples = 2\\nvalue = [1, 1]'),\n",
       " Text(0.3526717557251908, 0.34210526315789475, 'gini = 0.0\\nsamples = 1\\nvalue = [0, 1]'),\n",
       " Text(0.3852417302798982, 0.34210526315789475, 'gini = 0.0\\nsamples = 1\\nvalue = [1, 0]'),\n",
       " Text(0.4951653944020356, 0.4473684210526316, 'x[6] <= 80.5\\ngini = 0.005\\nsamples = 2765\\nvalue = [2758, 7]'),\n",
       " Text(0.4340966921119593, 0.39473684210526316, 'x[0] <= 5.05\\ngini = 0.054\\nsamples = 109\\nvalue = [106, 3]'),\n",
       " Text(0.4178117048346056, 0.34210526315789475, 'gini = 0.0\\nsamples = 1\\nvalue = [0, 1]'),\n",
       " Text(0.45038167938931295, 0.34210526315789475, 'x[4] <= 0.056\\ngini = 0.036\\nsamples = 108\\nvalue = [106, 2]'),\n",
       " Text(0.4340966921119593, 0.2894736842105263, 'x[9] <= 0.785\\ngini = 0.019\\nsamples = 107\\nvalue = [106, 1]'),\n",
       " Text(0.4178117048346056, 0.23684210526315788, 'gini = 0.0\\nsamples = 105\\nvalue = [105, 0]'),\n",
       " Text(0.45038167938931295, 0.23684210526315788, 'x[8] <= 3.105\\ngini = 0.5\\nsamples = 2\\nvalue = [1, 1]'),\n",
       " Text(0.4340966921119593, 0.18421052631578946, 'gini = 0.0\\nsamples = 1\\nvalue = [1, 0]'),\n",
       " Text(0.4666666666666667, 0.18421052631578946, 'gini = 0.0\\nsamples = 1\\nvalue = [0, 1]'),\n",
       " Text(0.4666666666666667, 0.2894736842105263, 'gini = 0.0\\nsamples = 1\\nvalue = [0, 1]'),\n",
       " Text(0.556234096692112, 0.39473684210526316, 'x[3] <= 0.925\\ngini = 0.003\\nsamples = 2656\\nvalue = [2652, 4]'),\n",
       " Text(0.5155216284987277, 0.34210526315789475, 'x[10] <= 12.45\\ngini = 0.083\\nsamples = 23\\nvalue = [22, 1]'),\n",
       " Text(0.49923664122137407, 0.2894736842105263, 'gini = 0.0\\nsamples = 22\\nvalue = [22, 0]'),\n",
       " Text(0.5318066157760815, 0.2894736842105263, 'gini = 0.0\\nsamples = 1\\nvalue = [0, 1]'),\n",
       " Text(0.5969465648854961, 0.34210526315789475, 'x[1] <= 0.488\\ngini = 0.002\\nsamples = 2633\\nvalue = [2630, 3]'),\n",
       " Text(0.5643765903307888, 0.2894736842105263, 'x[2] <= 0.235\\ngini = 0.002\\nsamples = 2576\\nvalue = [2574, 2]'),\n",
       " Text(0.5480916030534351, 0.23684210526315788, 'x[8] <= 3.315\\ngini = 0.014\\nsamples = 293\\nvalue = [291, 2]'),\n",
       " Text(0.5318066157760815, 0.18421052631578946, 'gini = 0.0\\nsamples = 242\\nvalue = [242, 0]'),\n",
       " Text(0.5643765903307888, 0.18421052631578946, 'x[5] <= 53.75\\ngini = 0.075\\nsamples = 51\\nvalue = [49, 2]'),\n",
       " Text(0.5318066157760815, 0.13157894736842105, 'x[6] <= 92.0\\ngini = 0.041\\nsamples = 48\\nvalue = [47, 1]'),\n",
       " Text(0.5155216284987277, 0.07894736842105263, 'x[7] <= 0.992\\ngini = 0.444\\nsamples = 3\\nvalue = [2, 1]'),\n",
       " Text(0.49923664122137407, 0.02631578947368421, 'gini = 0.0\\nsamples = 2\\nvalue = [2, 0]'),\n",
       " Text(0.5318066157760815, 0.02631578947368421, 'gini = 0.0\\nsamples = 1\\nvalue = [0, 1]'),\n",
       " Text(0.5480916030534351, 0.07894736842105263, 'gini = 0.0\\nsamples = 45\\nvalue = [45, 0]'),\n",
       " Text(0.5969465648854961, 0.13157894736842105, 'x[5] <= 63.0\\ngini = 0.444\\nsamples = 3\\nvalue = [2, 1]'),\n",
       " Text(0.5806615776081425, 0.07894736842105263, 'gini = 0.0\\nsamples = 1\\nvalue = [0, 1]'),\n",
       " Text(0.6132315521628499, 0.07894736842105263, 'gini = 0.0\\nsamples = 2\\nvalue = [2, 0]'),\n",
       " Text(0.5806615776081425, 0.23684210526315788, 'gini = 0.0\\nsamples = 2283\\nvalue = [2283, 0]'),\n",
       " Text(0.6295165394402036, 0.2894736842105263, 'x[4] <= 0.059\\ngini = 0.034\\nsamples = 57\\nvalue = [56, 1]'),\n",
       " Text(0.6132315521628499, 0.23684210526315788, 'gini = 0.0\\nsamples = 55\\nvalue = [55, 0]'),\n",
       " Text(0.6458015267175573, 0.23684210526315788, 'x[3] <= 8.25\\ngini = 0.5\\nsamples = 2\\nvalue = [1, 1]'),\n",
       " Text(0.6295165394402036, 0.18421052631578946, 'gini = 0.0\\nsamples = 1\\nvalue = [0, 1]'),\n",
       " Text(0.6620865139949109, 0.18421052631578946, 'gini = 0.0\\nsamples = 1\\nvalue = [1, 0]'),\n",
       " Text(0.5440203562340967, 0.5, 'x[8] <= 3.02\\ngini = 0.245\\nsamples = 7\\nvalue = [6, 1]'),\n",
       " Text(0.527735368956743, 0.4473684210526316, 'gini = 0.0\\nsamples = 1\\nvalue = [0, 1]'),\n",
       " Text(0.5603053435114503, 0.4473684210526316, 'gini = 0.0\\nsamples = 6\\nvalue = [6, 0]'),\n",
       " Text(0.5765903307888041, 0.6052631578947368, 'x[8] <= 3.44\\ngini = 0.251\\nsamples = 34\\nvalue = [29, 5]'),\n",
       " Text(0.5603053435114503, 0.5526315789473685, 'gini = 0.0\\nsamples = 25\\nvalue = [25, 0]'),\n",
       " Text(0.5928753180661578, 0.5526315789473685, 'x[7] <= 0.991\\ngini = 0.494\\nsamples = 9\\nvalue = [4, 5]'),\n",
       " Text(0.5765903307888041, 0.5, 'gini = 0.0\\nsamples = 3\\nvalue = [3, 0]'),\n",
       " Text(0.6091603053435114, 0.5, 'x[1] <= 0.195\\ngini = 0.278\\nsamples = 6\\nvalue = [1, 5]'),\n",
       " Text(0.5928753180661578, 0.4473684210526316, 'gini = 0.0\\nsamples = 1\\nvalue = [1, 0]'),\n",
       " Text(0.6254452926208651, 0.4473684210526316, 'gini = 0.0\\nsamples = 5\\nvalue = [0, 5]'),\n",
       " Text(0.6743002544529262, 0.7105263157894737, 'x[8] <= 3.245\\ngini = 0.287\\nsamples = 46\\nvalue = [38, 8]'),\n",
       " Text(0.6254452926208651, 0.6578947368421053, 'x[0] <= 7.8\\ngini = 0.059\\nsamples = 33\\nvalue = [32, 1]'),\n",
       " Text(0.6091603053435114, 0.6052631578947368, 'gini = 0.0\\nsamples = 31\\nvalue = [31, 0]'),\n",
       " Text(0.6417302798982188, 0.6052631578947368, 'x[0] <= 8.55\\ngini = 0.5\\nsamples = 2\\nvalue = [1, 1]'),\n",
       " Text(0.6254452926208651, 0.5526315789473685, 'gini = 0.0\\nsamples = 1\\nvalue = [0, 1]'),\n",
       " Text(0.6580152671755726, 0.5526315789473685, 'gini = 0.0\\nsamples = 1\\nvalue = [1, 0]'),\n",
       " Text(0.7231552162849872, 0.6578947368421053, 'x[1] <= 0.395\\ngini = 0.497\\nsamples = 13\\nvalue = [6, 7]'),\n",
       " Text(0.7068702290076336, 0.6052631578947368, 'x[8] <= 3.335\\ngini = 0.375\\nsamples = 8\\nvalue = [6, 2]'),\n",
       " Text(0.6905852417302799, 0.5526315789473685, 'x[11] <= 5.5\\ngini = 0.444\\nsamples = 3\\nvalue = [1, 2]'),\n",
       " Text(0.6743002544529262, 0.5, 'gini = 0.0\\nsamples = 1\\nvalue = [1, 0]'),\n",
       " Text(0.7068702290076336, 0.5, 'gini = 0.0\\nsamples = 2\\nvalue = [0, 2]'),\n",
       " Text(0.7231552162849872, 0.5526315789473685, 'gini = 0.0\\nsamples = 5\\nvalue = [5, 0]'),\n",
       " Text(0.739440203562341, 0.6052631578947368, 'gini = 0.0\\nsamples = 5\\nvalue = [0, 5]'),\n",
       " Text(0.5883587786259542, 0.7631578947368421, 'gini = 0.0\\nsamples = 2\\nvalue = [0, 2]'),\n",
       " Text(0.6046437659033079, 0.8157894736842105, 'gini = 0.0\\nsamples = 2\\nvalue = [0, 2]'),\n",
       " Text(0.8493638676844784, 0.868421052631579, 'x[1] <= 0.395\\ngini = 0.49\\nsamples = 287\\nvalue = [123, 164]'),\n",
       " Text(0.8045801526717558, 0.8157894736842105, 'x[0] <= 8.3\\ngini = 0.268\\nsamples = 119\\nvalue = [100, 19]'),\n",
       " Text(0.788295165394402, 0.7631578947368421, 'x[6] <= 103.0\\ngini = 0.137\\nsamples = 108\\nvalue = [100, 8]'),\n",
       " Text(0.7720101781170483, 0.7105263157894737, 'x[8] <= 3.23\\ngini = 0.494\\nsamples = 18\\nvalue = [10, 8]'),\n",
       " Text(0.7557251908396947, 0.6578947368421053, 'gini = 0.0\\nsamples = 9\\nvalue = [9, 0]'),\n",
       " Text(0.788295165394402, 0.6578947368421053, 'x[1] <= 0.24\\ngini = 0.198\\nsamples = 9\\nvalue = [1, 8]'),\n",
       " Text(0.7720101781170483, 0.6052631578947368, 'gini = 0.0\\nsamples = 1\\nvalue = [1, 0]'),\n",
       " Text(0.8045801526717558, 0.6052631578947368, 'gini = 0.0\\nsamples = 8\\nvalue = [0, 8]'),\n",
       " Text(0.8045801526717558, 0.7105263157894737, 'gini = 0.0\\nsamples = 90\\nvalue = [90, 0]'),\n",
       " Text(0.8208651399491094, 0.7631578947368421, 'gini = 0.0\\nsamples = 11\\nvalue = [0, 11]'),\n",
       " Text(0.8941475826972011, 0.8157894736842105, 'x[6] <= 155.0\\ngini = 0.236\\nsamples = 168\\nvalue = [23, 145]'),\n",
       " Text(0.8778625954198473, 0.7631578947368421, 'x[7] <= 0.995\\ngini = 0.11\\nsamples = 154\\nvalue = [9, 145]'),\n",
       " Text(0.8371501272264631, 0.7105263157894737, 'x[8] <= 3.38\\ngini = 0.278\\nsamples = 6\\nvalue = [5, 1]'),\n",
       " Text(0.8208651399491094, 0.6578947368421053, 'gini = 0.0\\nsamples = 5\\nvalue = [5, 0]'),\n",
       " Text(0.8534351145038168, 0.6578947368421053, 'gini = 0.0\\nsamples = 1\\nvalue = [0, 1]'),\n",
       " Text(0.9185750636132316, 0.7105263157894737, 'x[9] <= 0.445\\ngini = 0.053\\nsamples = 148\\nvalue = [4, 144]'),\n",
       " Text(0.8860050890585242, 0.6578947368421053, 'x[6] <= 89.5\\ngini = 0.375\\nsamples = 4\\nvalue = [3, 1]'),\n",
       " Text(0.8697201017811704, 0.6052631578947368, 'gini = 0.0\\nsamples = 1\\nvalue = [0, 1]'),\n",
       " Text(0.9022900763358779, 0.6052631578947368, 'gini = 0.0\\nsamples = 3\\nvalue = [3, 0]'),\n",
       " Text(0.9511450381679389, 0.6578947368421053, 'x[3] <= 11.1\\ngini = 0.014\\nsamples = 144\\nvalue = [1, 143]'),\n",
       " Text(0.9348600508905852, 0.6052631578947368, 'gini = 0.0\\nsamples = 140\\nvalue = [0, 140]'),\n",
       " Text(0.9674300254452927, 0.6052631578947368, 'x[2] <= 0.365\\ngini = 0.375\\nsamples = 4\\nvalue = [1, 3]'),\n",
       " Text(0.9511450381679389, 0.5526315789473685, 'gini = 0.0\\nsamples = 1\\nvalue = [1, 0]'),\n",
       " Text(0.9837150127226463, 0.5526315789473685, 'gini = 0.0\\nsamples = 3\\nvalue = [0, 3]'),\n",
       " Text(0.9104325699745547, 0.7631578947368421, 'gini = 0.0\\nsamples = 14\\nvalue = [14, 0]')]"
      ]
     },
     "execution_count": 13,
     "metadata": {},
     "output_type": "execute_result"
    },
    {
     "data": {
      "image/png": "[encoded data removed]",
      "text/plain": [
       "<Figure size 640x480 with 1 Axes>"
      ]
     },
     "metadata": {},
     "output_type": "display_data"
    }
   ],
   "source": [
    "from sklearn.tree import plot_tree\n",
    "\n",
    "plot_tree(dt)"
   ]
  },
  {
   "cell_type": "code",
   "execution_count": 41,
   "metadata": {},
   "outputs": [],
   "source": [
    "import numpy as np\n",
    "from sklearn.model_selection import KFold\n",
    "\n",
    "x = np.array([\n",
    "    [1, 2], [3, 4], [1, 2], [3, 4]\n",
    "])\n",
    "\n",
    "y = np.array([1, 2, 3, 4])"
   ]
  },
  {
   "cell_type": "code",
   "execution_count": 42,
   "metadata": {},
   "outputs": [
    {
     "name": "stdout",
     "output_type": "stream",
     "text": [
      "KFold(n_splits=2, random_state=None, shuffle=False)\n",
      "2\n"
     ]
    }
   ],
   "source": [
    "kf = KFold(n_splits=2)\n",
    "\n",
    "print(kf)\n",
    "print(kf.get_n_splits(x))"
   ]
  },
  {
   "cell_type": "code",
   "execution_count": 44,
   "metadata": {},
   "outputs": [
    {
     "name": "stdout",
     "output_type": "stream",
     "text": [
      "훈련 세트 :  [2 3]\n",
      "검증 세트 :  [0 1]\n",
      "훈련 세트 :  [0 1]\n",
      "검증 세트 :  [2 3]\n"
     ]
    }
   ],
   "source": [
    "for train_idx, val_idx in kf.split(x) :\n",
    "    print('훈련 세트 : ', train_idx)\n",
    "    print('검증 세트 : ', val_idx)"
   ]
  },
  {
   "cell_type": "code",
   "execution_count": 46,
   "metadata": {},
   "outputs": [
    {
     "data": {
      "text/plain": [
       "(array([[1, 2],\n",
       "        [3, 4]]),\n",
       " array([[1, 2],\n",
       "        [3, 4]]))"
      ]
     },
     "execution_count": 46,
     "metadata": {},
     "output_type": "execute_result"
    }
   ],
   "source": [
    "x[train_idx], x[val_idx]"
   ]
  },
  {
   "cell_type": "code",
   "execution_count": 47,
   "metadata": {},
   "outputs": [
    {
     "name": "stdout",
     "output_type": "stream",
     "text": [
      "--- index\n",
      "[2 3] [0 1]\n",
      "--- train data\n",
      "[[1 2]\n",
      " [3 4]]\n",
      "--- validation data\n",
      "[[1 2]\n",
      " [3 4]]\n",
      "--- index\n",
      "[0 1] [2 3]\n",
      "--- train data\n",
      "[[1 2]\n",
      " [3 4]]\n",
      "--- validation data\n",
      "[[1 2]\n",
      " [3 4]]\n"
     ]
    }
   ],
   "source": [
    "for train_idx, val_idx in kf.split(x) :\n",
    "    print('--- index')\n",
    "    print(train_idx, val_idx)\n",
    "    print('--- train data')\n",
    "    print(x[train_idx])\n",
    "    print('--- validation data')\n",
    "    print(x[val_idx])"
   ]
  },
  {
   "cell_type": "code",
   "execution_count": 49,
   "metadata": {},
   "outputs": [],
   "source": [
    "import pandas as pd\n",
    "\n",
    "red_url = \"https://raw.githubusercontent.com/PinkWink/ML_tutorial/master/dataset/winequality-red.csv\"\n",
    "white_url = \"https://raw.githubusercontent.com/PinkWink/ML_tutorial/master/dataset/winequality-white.csv\"\n",
    "\n",
    "red_wine = pd.read_csv(red_url, sep=';')\n",
    "white_wine = pd.read_csv(white_url, sep=';')\n",
    "\n",
    "red_wine['color'] = 1.\n",
    "white_wine['color'] = 0.\n",
    "\n",
    "wine = pd.concat([red_wine, white_wine])\n",
    "\n",
    "wine['taste'] = [1. if grade > 5 else 0. for grade in wine['quality']]\n",
    "\n",
    "x = wine.drop(['taste', 'quality'], axis=1)\n",
    "y = wine['taste']"
   ]
  },
  {
   "cell_type": "code",
   "execution_count": 50,
   "metadata": {},
   "outputs": [
    {
     "name": "stdout",
     "output_type": "stream",
     "text": [
      "Train Acc :  0.7294593034442948\n",
      "Test Acc :  0.7161538461538461\n"
     ]
    }
   ],
   "source": [
    "from sklearn.model_selection import train_test_split\n",
    "from sklearn.tree import DecisionTreeClassifier\n",
    "from sklearn.metrics import accuracy_score\n",
    "\n",
    "x_train, x_test, y_train, y_test = train_test_split(x, y, test_size=0.2, random_state=13)\n",
    "\n",
    "wine_tree = DecisionTreeClassifier(max_depth=2, random_state=13)\n",
    "wine_tree.fit(x_train, y_train)\n",
    "\n",
    "y_pred_tr = wine_tree.predict(x_train)\n",
    "y_pred_test = wine_tree.predict(x_test)\n",
    "\n",
    "print('Train Acc : ', accuracy_score(y_train, y_pred_tr))\n",
    "print('Test Acc : ', accuracy_score(y_test, y_pred_test))"
   ]
  },
  {
   "cell_type": "code",
   "execution_count": 51,
   "metadata": {},
   "outputs": [
    {
     "data": {
      "text/plain": [
       "6497"
      ]
     },
     "execution_count": 51,
     "metadata": {},
     "output_type": "execute_result"
    }
   ],
   "source": [
    "from sklearn.model_selection import KFold\n",
    "\n",
    "kfold = KFold(n_splits=5)\n",
    "wine_tree_cv = DecisionTreeClassifier(max_depth=2, random_state=13)"
   ]
  },
  {
   "cell_type": "code",
   "execution_count": 52,
   "metadata": {},
   "outputs": [
    {
     "name": "stdout",
     "output_type": "stream",
     "text": [
      "5197 1300\n",
      "5197 1300\n",
      "5198 1299\n",
      "5198 1299\n",
      "5198 1299\n"
     ]
    }
   ],
   "source": [
    "for train_idx, test_idx in kfold.split(x) :\n",
    "    print(len(train_idx), len(test_idx))"
   ]
  },
  {
   "cell_type": "code",
   "execution_count": 53,
   "metadata": {},
   "outputs": [
    {
     "data": {
      "text/plain": [
       "[0.6007692307692307,\n",
       " 0.6884615384615385,\n",
       " 0.7090069284064665,\n",
       " 0.7628945342571208,\n",
       " 0.7867590454195535]"
      ]
     },
     "execution_count": 53,
     "metadata": {},
     "output_type": "execute_result"
    }
   ],
   "source": [
    "cv_accuracy = []\n",
    "\n",
    "for train_idx, test_idx in kfold.split(x) :\n",
    "    # 데이터셋 x에서 훈련 세트와 검증 세트 분류\n",
    "    x_train, x_test = x.iloc[train_idx], x.iloc[test_idx]\n",
    "    # 각 훈련 세트와 검증 세트의 index에 해당하는 라벨 y 선택\n",
    "    y_train, y_test = y.iloc[train_idx], y.iloc[test_idx]\n",
    "\n",
    "    # 분할된 훈련 세트로 훈련 \n",
    "    wine_tree_cv.fit(x_train, y_train)\n",
    "    # 검증 세트로 예측 진행\n",
    "    pred = wine_tree_cv.predict(x_test)\n",
    "    # 모델 예측에 대한 정확도를 리스트에 append\n",
    "    cv_accuracy.append(accuracy_score(y_test, pred))\n",
    "\n",
    "cv_accuracy"
   ]
  },
  {
   "cell_type": "code",
   "execution_count": 54,
   "metadata": {},
   "outputs": [
    {
     "data": {
      "text/plain": [
       "0.709578255462782"
      ]
     },
     "execution_count": 54,
     "metadata": {},
     "output_type": "execute_result"
    }
   ],
   "source": [
    "np.mean(cv_accuracy)"
   ]
  },
  {
   "cell_type": "code",
   "execution_count": 55,
   "metadata": {},
   "outputs": [
    {
     "data": {
      "text/plain": [
       "[0.5523076923076923,\n",
       " 0.6884615384615385,\n",
       " 0.7143956889915319,\n",
       " 0.7321016166281755,\n",
       " 0.7567359507313318]"
      ]
     },
     "execution_count": 55,
     "metadata": {},
     "output_type": "execute_result"
    }
   ],
   "source": [
    "from sklearn.model_selection import StratifiedKFold\n",
    "\n",
    "skfold = StratifiedKFold(n_splits=5)\n",
    "wine_tree_cv = DecisionTreeClassifier(max_depth=2, random_state=13)\n",
    "\n",
    "cv_accuracy = []\n",
    "\n",
    "for train_idx, test_idx in skfold.split(x, y) :\n",
    "    # 데이터셋 x에서 훈련 세트와 검증 세트 분류\n",
    "    x_train, x_test = x.iloc[train_idx], x.iloc[test_idx]\n",
    "    # 각 훈련 세트와 검증 세트의 index에 해당하는 라벨 y 선택\n",
    "    y_train, y_test = y.iloc[train_idx], y.iloc[test_idx]\n",
    "\n",
    "    # 분할된 훈련 세트로 훈련 \n",
    "    wine_tree_cv.fit(x_train, y_train)\n",
    "    # 검증 세트로 예측 진행\n",
    "    pred = wine_tree_cv.predict(x_test)\n",
    "    # 모델 예측에 대한 정확도를 리스트에 append\n",
    "    cv_accuracy.append(accuracy_score(y_test, pred))\n",
    "\n",
    "cv_accuracy"
   ]
  },
  {
   "cell_type": "code",
   "execution_count": 56,
   "metadata": {},
   "outputs": [
    {
     "data": {
      "text/plain": [
       "0.6888004974240539"
      ]
     },
     "execution_count": 56,
     "metadata": {},
     "output_type": "execute_result"
    }
   ],
   "source": [
    "np.mean(cv_accuracy)"
   ]
  },
  {
   "cell_type": "code",
   "execution_count": 59,
   "metadata": {},
   "outputs": [
    {
     "data": {
      "text/plain": [
       "array([0.55230769, 0.68846154, 0.71439569, 0.73210162, 0.75673595])"
      ]
     },
     "execution_count": 59,
     "metadata": {},
     "output_type": "execute_result"
    }
   ],
   "source": [
    "from sklearn.model_selection import cross_val_score\n",
    "\n",
    "skfold = StratifiedKFold(n_splits=5)\n",
    "wine_tree_cv = DecisionTreeClassifier(max_depth=2, random_state=13)\n",
    "\n",
    "cross_val_score(wine_tree_cv, x, y, scoring=None, cv=skfold)"
   ]
  },
  {
   "cell_type": "code",
   "execution_count": 60,
   "metadata": {},
   "outputs": [
    {
     "data": {
      "text/plain": [
       "{'fit_time': array([0.01173019, 0.01137209, 0.01883912, 0.0089941 , 0.00830722]),\n",
       " 'score_time': array([0.00195003, 0.04125524, 0.00191307, 0.0014708 , 0.00123811]),\n",
       " 'test_score': array([0.55230769, 0.68846154, 0.71439569, 0.73210162, 0.75673595]),\n",
       " 'train_score': array([0.74773908, 0.74696941, 0.74317045, 0.73509042, 0.73258946])}"
      ]
     },
     "execution_count": 60,
     "metadata": {},
     "output_type": "execute_result"
    }
   ],
   "source": [
    "from sklearn.model_selection import cross_validate\n",
    "\n",
    "cross_validate(wine_tree_cv, x, y, cv=skfold, return_train_score = True)"
   ]
  },
  {
   "cell_type": "code",
   "execution_count": 61,
   "metadata": {},
   "outputs": [],
   "source": [
    "import pandas as pd\n",
    "\n",
    "red_url = \"https://raw.githubusercontent.com/PinkWink/ML_tutorial/master/dataset/winequality-red.csv\"\n",
    "white_url = \"https://raw.githubusercontent.com/PinkWink/ML_tutorial/master/dataset/winequality-white.csv\"\n",
    "\n",
    "red_wine = pd.read_csv(red_url, sep=';')\n",
    "white_wine = pd.read_csv(white_url, sep=';')\n",
    "\n",
    "red_wine['color'] = 1.\n",
    "white_wine['color'] = 0.\n",
    "\n",
    "wine = pd.concat([red_wine, white_wine])\n",
    "\n",
    "wine['taste'] = [1. if grade > 5 else 0. for grade in wine['quality']]\n",
    "\n",
    "x = wine.drop(['taste', 'quality'], axis=1)\n",
    "y = wine['taste']"
   ]
  },
  {
   "cell_type": "code",
   "execution_count": 62,
   "metadata": {},
   "outputs": [
    {
     "data": {
      "text/html": [
       "<style>#sk-container-id-1 {color: black;}#sk-container-id-1 pre{padding: 0;}#sk-container-id-1 div.sk-toggleable {background-color: white;}#sk-container-id-1 label.sk-toggleable__label {cursor: pointer;display: block;width: 100%;margin-bottom: 0;padding: 0.3em;box-sizing: border-box;text-align: center;}#sk-container-id-1 label.sk-toggleable__label-arrow:before {content: \"▸\";float: left;margin-right: 0.25em;color: #696969;}#sk-container-id-1 label.sk-toggleable__label-arrow:hover:before {color: black;}#sk-container-id-1 div.sk-estimator:hover label.sk-toggleable__label-arrow:before {color: black;}#sk-container-id-1 div.sk-toggleable__content {max-height: 0;max-width: 0;overflow: hidden;text-align: left;background-color: #f0f8ff;}#sk-container-id-1 div.sk-toggleable__content pre {margin: 0.2em;color: black;border-radius: 0.25em;background-color: #f0f8ff;}#sk-container-id-1 input.sk-toggleable__control:checked~div.sk-toggleable__content {max-height: 200px;max-width: 100%;overflow: auto;}#sk-container-id-1 input.sk-toggleable__control:checked~label.sk-toggleable__label-arrow:before {content: \"▾\";}#sk-container-id-1 div.sk-estimator input.sk-toggleable__control:checked~label.sk-toggleable__label {background-color: #d4ebff;}#sk-container-id-1 div.sk-label input.sk-toggleable__control:checked~label.sk-toggleable__label {background-color: #d4ebff;}#sk-container-id-1 input.sk-hidden--visually {border: 0;clip: rect(1px 1px 1px 1px);clip: rect(1px, 1px, 1px, 1px);height: 1px;margin: -1px;overflow: hidden;padding: 0;position: absolute;width: 1px;}#sk-container-id-1 div.sk-estimator {font-family: monospace;background-color: #f0f8ff;border: 1px dotted black;border-radius: 0.25em;box-sizing: border-box;margin-bottom: 0.5em;}#sk-container-id-1 div.sk-estimator:hover {background-color: #d4ebff;}#sk-container-id-1 div.sk-parallel-item::after {content: \"\";width: 100%;border-bottom: 1px solid gray;flex-grow: 1;}#sk-container-id-1 div.sk-label:hover label.sk-toggleable__label {background-color: #d4ebff;}#sk-container-id-1 div.sk-serial::before {content: \"\";position: absolute;border-left: 1px solid gray;box-sizing: border-box;top: 0;bottom: 0;left: 50%;z-index: 0;}#sk-container-id-1 div.sk-serial {display: flex;flex-direction: column;align-items: center;background-color: white;padding-right: 0.2em;padding-left: 0.2em;position: relative;}#sk-container-id-1 div.sk-item {position: relative;z-index: 1;}#sk-container-id-1 div.sk-parallel {display: flex;align-items: stretch;justify-content: center;background-color: white;position: relative;}#sk-container-id-1 div.sk-item::before, #sk-container-id-1 div.sk-parallel-item::before {content: \"\";position: absolute;border-left: 1px solid gray;box-sizing: border-box;top: 0;bottom: 0;left: 50%;z-index: -1;}#sk-container-id-1 div.sk-parallel-item {display: flex;flex-direction: column;z-index: 1;position: relative;background-color: white;}#sk-container-id-1 div.sk-parallel-item:first-child::after {align-self: flex-end;width: 50%;}#sk-container-id-1 div.sk-parallel-item:last-child::after {align-self: flex-start;width: 50%;}#sk-container-id-1 div.sk-parallel-item:only-child::after {width: 0;}#sk-container-id-1 div.sk-dashed-wrapped {border: 1px dashed gray;margin: 0 0.4em 0.5em 0.4em;box-sizing: border-box;padding-bottom: 0.4em;background-color: white;}#sk-container-id-1 div.sk-label label {font-family: monospace;font-weight: bold;display: inline-block;line-height: 1.2em;}#sk-container-id-1 div.sk-label-container {text-align: center;}#sk-container-id-1 div.sk-container {/* jupyter's `normalize.less` sets `[hidden] { display: none; }` but bootstrap.min.css set `[hidden] { display: none !important; }` so we also need the `!important` here to be able to override the default hidden behavior on the sphinx rendered scikit-learn.org. See: https://github.com/scikit-learn/scikit-learn/issues/21755 */display: inline-block !important;position: relative;}#sk-container-id-1 div.sk-text-repr-fallback {display: none;}</style><div id=\"sk-container-id-1\" class=\"sk-top-container\"><div class=\"sk-text-repr-fallback\"><pre>GridSearchCV(cv=5,\n",
       "             estimator=DecisionTreeClassifier(max_depth=2, random_state=13),\n",
       "             param_grid={&#x27;max_depth&#x27;: [2, 4, 7, 18]})</pre><b>In a Jupyter environment, please rerun this cell to show the HTML representation or trust the notebook. <br />On GitHub, the HTML representation is unable to render, please try loading this page with nbviewer.org.</b></div><div class=\"sk-container\" hidden><div class=\"sk-item sk-dashed-wrapped\"><div class=\"sk-label-container\"><div class=\"sk-label sk-toggleable\"><input class=\"sk-toggleable__control sk-hidden--visually\" id=\"sk-estimator-id-1\" type=\"checkbox\" ><label for=\"sk-estimator-id-1\" class=\"sk-toggleable__label sk-toggleable__label-arrow\">GridSearchCV</label><div class=\"sk-toggleable__content\"><pre>GridSearchCV(cv=5,\n",
       "             estimator=DecisionTreeClassifier(max_depth=2, random_state=13),\n",
       "             param_grid={&#x27;max_depth&#x27;: [2, 4, 7, 18]})</pre></div></div></div><div class=\"sk-parallel\"><div class=\"sk-parallel-item\"><div class=\"sk-item\"><div class=\"sk-label-container\"><div class=\"sk-label sk-toggleable\"><input class=\"sk-toggleable__control sk-hidden--visually\" id=\"sk-estimator-id-2\" type=\"checkbox\" ><label for=\"sk-estimator-id-2\" class=\"sk-toggleable__label sk-toggleable__label-arrow\">estimator: DecisionTreeClassifier</label><div class=\"sk-toggleable__content\"><pre>DecisionTreeClassifier(max_depth=2, random_state=13)</pre></div></div></div><div class=\"sk-serial\"><div class=\"sk-item\"><div class=\"sk-estimator sk-toggleable\"><input class=\"sk-toggleable__control sk-hidden--visually\" id=\"sk-estimator-id-3\" type=\"checkbox\" ><label for=\"sk-estimator-id-3\" class=\"sk-toggleable__label sk-toggleable__label-arrow\">DecisionTreeClassifier</label><div class=\"sk-toggleable__content\"><pre>DecisionTreeClassifier(max_depth=2, random_state=13)</pre></div></div></div></div></div></div></div></div></div></div>"
      ],
      "text/plain": [
       "GridSearchCV(cv=5,\n",
       "             estimator=DecisionTreeClassifier(max_depth=2, random_state=13),\n",
       "             param_grid={'max_depth': [2, 4, 7, 18]})"
      ]
     },
     "execution_count": 62,
     "metadata": {},
     "output_type": "execute_result"
    }
   ],
   "source": [
    "from sklearn.model_selection import GridSearchCV\n",
    "from sklearn.tree import DecisionTreeClassifier\n",
    "\n",
    "params = {'max_depth' : [2, 4, 7, 18]}\n",
    "wine_tree = DecisionTreeClassifier(max_depth=2, random_state=13)\n",
    "\n",
    "gridsearch = GridSearchCV(estimator=wine_tree, param_grid=params, cv=5)\n",
    "gridsearch.fit(x, y)"
   ]
  },
  {
   "cell_type": "code",
   "execution_count": 63,
   "metadata": {},
   "outputs": [
    {
     "name": "stdout",
     "output_type": "stream",
     "text": [
      "{   'mean_fit_time': array([0.00987101, 0.015272  , 0.02550426, 0.04464474]),\n",
      "    'mean_score_time': array([0.00175257, 0.00137353, 0.00159602, 0.00182981]),\n",
      "    'mean_test_score': array([0.6888005 , 0.66356523, 0.65340854, 0.60491917]),\n",
      "    'param_max_depth': masked_array(data=[2, 4, 7, 18],\n",
      "             mask=[False, False, False, False],\n",
      "       fill_value='?',\n",
      "            dtype=object),\n",
      "    'params': [   {'max_depth': 2},\n",
      "                  {'max_depth': 4},\n",
      "                  {'max_depth': 7},\n",
      "                  {'max_depth': 18}],\n",
      "    'rank_test_score': array([1, 2, 3, 4], dtype=int32),\n",
      "    'split0_test_score': array([0.55230769, 0.51230769, 0.50846154, 0.47384615]),\n",
      "    'split1_test_score': array([0.68846154, 0.63153846, 0.60307692, 0.57615385]),\n",
      "    'split2_test_score': array([0.71439569, 0.72363356, 0.68360277, 0.6073903 ]),\n",
      "    'split3_test_score': array([0.73210162, 0.73210162, 0.73672055, 0.67359507]),\n",
      "    'split4_test_score': array([0.75673595, 0.7182448 , 0.73518091, 0.69361047]),\n",
      "    'std_fit_time': array([0.0007869 , 0.00037009, 0.00105535, 0.00067176]),\n",
      "    'std_score_time': array([0.00051868, 0.00012744, 0.00027775, 0.00016259]),\n",
      "    'std_test_score': array([0.07179934, 0.08390453, 0.08727223, 0.07822559])}\n"
     ]
    }
   ],
   "source": [
    "import pprint\n",
    "\n",
    "pp = pprint.PrettyPrinter(indent=4)\n",
    "pp.pprint(gridsearch.cv_results_)"
   ]
  },
  {
   "cell_type": "code",
   "execution_count": 64,
   "metadata": {},
   "outputs": [
    {
     "data": {
      "text/html": [
       "<style>#sk-container-id-2 {color: black;}#sk-container-id-2 pre{padding: 0;}#sk-container-id-2 div.sk-toggleable {background-color: white;}#sk-container-id-2 label.sk-toggleable__label {cursor: pointer;display: block;width: 100%;margin-bottom: 0;padding: 0.3em;box-sizing: border-box;text-align: center;}#sk-container-id-2 label.sk-toggleable__label-arrow:before {content: \"▸\";float: left;margin-right: 0.25em;color: #696969;}#sk-container-id-2 label.sk-toggleable__label-arrow:hover:before {color: black;}#sk-container-id-2 div.sk-estimator:hover label.sk-toggleable__label-arrow:before {color: black;}#sk-container-id-2 div.sk-toggleable__content {max-height: 0;max-width: 0;overflow: hidden;text-align: left;background-color: #f0f8ff;}#sk-container-id-2 div.sk-toggleable__content pre {margin: 0.2em;color: black;border-radius: 0.25em;background-color: #f0f8ff;}#sk-container-id-2 input.sk-toggleable__control:checked~div.sk-toggleable__content {max-height: 200px;max-width: 100%;overflow: auto;}#sk-container-id-2 input.sk-toggleable__control:checked~label.sk-toggleable__label-arrow:before {content: \"▾\";}#sk-container-id-2 div.sk-estimator input.sk-toggleable__control:checked~label.sk-toggleable__label {background-color: #d4ebff;}#sk-container-id-2 div.sk-label input.sk-toggleable__control:checked~label.sk-toggleable__label {background-color: #d4ebff;}#sk-container-id-2 input.sk-hidden--visually {border: 0;clip: rect(1px 1px 1px 1px);clip: rect(1px, 1px, 1px, 1px);height: 1px;margin: -1px;overflow: hidden;padding: 0;position: absolute;width: 1px;}#sk-container-id-2 div.sk-estimator {font-family: monospace;background-color: #f0f8ff;border: 1px dotted black;border-radius: 0.25em;box-sizing: border-box;margin-bottom: 0.5em;}#sk-container-id-2 div.sk-estimator:hover {background-color: #d4ebff;}#sk-container-id-2 div.sk-parallel-item::after {content: \"\";width: 100%;border-bottom: 1px solid gray;flex-grow: 1;}#sk-container-id-2 div.sk-label:hover label.sk-toggleable__label {background-color: #d4ebff;}#sk-container-id-2 div.sk-serial::before {content: \"\";position: absolute;border-left: 1px solid gray;box-sizing: border-box;top: 0;bottom: 0;left: 50%;z-index: 0;}#sk-container-id-2 div.sk-serial {display: flex;flex-direction: column;align-items: center;background-color: white;padding-right: 0.2em;padding-left: 0.2em;position: relative;}#sk-container-id-2 div.sk-item {position: relative;z-index: 1;}#sk-container-id-2 div.sk-parallel {display: flex;align-items: stretch;justify-content: center;background-color: white;position: relative;}#sk-container-id-2 div.sk-item::before, #sk-container-id-2 div.sk-parallel-item::before {content: \"\";position: absolute;border-left: 1px solid gray;box-sizing: border-box;top: 0;bottom: 0;left: 50%;z-index: -1;}#sk-container-id-2 div.sk-parallel-item {display: flex;flex-direction: column;z-index: 1;position: relative;background-color: white;}#sk-container-id-2 div.sk-parallel-item:first-child::after {align-self: flex-end;width: 50%;}#sk-container-id-2 div.sk-parallel-item:last-child::after {align-self: flex-start;width: 50%;}#sk-container-id-2 div.sk-parallel-item:only-child::after {width: 0;}#sk-container-id-2 div.sk-dashed-wrapped {border: 1px dashed gray;margin: 0 0.4em 0.5em 0.4em;box-sizing: border-box;padding-bottom: 0.4em;background-color: white;}#sk-container-id-2 div.sk-label label {font-family: monospace;font-weight: bold;display: inline-block;line-height: 1.2em;}#sk-container-id-2 div.sk-label-container {text-align: center;}#sk-container-id-2 div.sk-container {/* jupyter's `normalize.less` sets `[hidden] { display: none; }` but bootstrap.min.css set `[hidden] { display: none !important; }` so we also need the `!important` here to be able to override the default hidden behavior on the sphinx rendered scikit-learn.org. See: https://github.com/scikit-learn/scikit-learn/issues/21755 */display: inline-block !important;position: relative;}#sk-container-id-2 div.sk-text-repr-fallback {display: none;}</style><div id=\"sk-container-id-2\" class=\"sk-top-container\"><div class=\"sk-text-repr-fallback\"><pre>DecisionTreeClassifier(max_depth=2, random_state=13)</pre><b>In a Jupyter environment, please rerun this cell to show the HTML representation or trust the notebook. <br />On GitHub, the HTML representation is unable to render, please try loading this page with nbviewer.org.</b></div><div class=\"sk-container\" hidden><div class=\"sk-item\"><div class=\"sk-estimator sk-toggleable\"><input class=\"sk-toggleable__control sk-hidden--visually\" id=\"sk-estimator-id-4\" type=\"checkbox\" checked><label for=\"sk-estimator-id-4\" class=\"sk-toggleable__label sk-toggleable__label-arrow\">DecisionTreeClassifier</label><div class=\"sk-toggleable__content\"><pre>DecisionTreeClassifier(max_depth=2, random_state=13)</pre></div></div></div></div></div>"
      ],
      "text/plain": [
       "DecisionTreeClassifier(max_depth=2, random_state=13)"
      ]
     },
     "execution_count": 64,
     "metadata": {},
     "output_type": "execute_result"
    }
   ],
   "source": [
    "gridsearch.best_estimator_"
   ]
  },
  {
   "cell_type": "code",
   "execution_count": 65,
   "metadata": {},
   "outputs": [
    {
     "data": {
      "text/plain": [
       "{'max_depth': 2}"
      ]
     },
     "execution_count": 65,
     "metadata": {},
     "output_type": "execute_result"
    }
   ],
   "source": [
    "gridsearch.best_params_"
   ]
  },
  {
   "cell_type": "code",
   "execution_count": 66,
   "metadata": {},
   "outputs": [
    {
     "data": {
      "text/plain": [
       "0.6888004974240539"
      ]
     },
     "execution_count": 66,
     "metadata": {},
     "output_type": "execute_result"
    }
   ],
   "source": [
    "gridsearch.best_score_"
   ]
  },
  {
   "cell_type": "code",
   "execution_count": 70,
   "metadata": {},
   "outputs": [
    {
     "data": {
      "text/plain": [
       "0.7407692307692307"
      ]
     },
     "execution_count": 70,
     "metadata": {},
     "output_type": "execute_result"
    }
   ],
   "source": [
    "x_train, x_test, y_train, y_test = train_test_split(x, y, test_size=0.2, random_state=13)\n",
    "\n",
    "dt = gridsearch.best_estimator_\n",
    "\n",
    "y_pred_test = dt.predict(x_test)\n",
    "accuracy_score(y_test, y_pred_test)"
   ]
  },
  {
   "cell_type": "code",
   "execution_count": 71,
   "metadata": {},
   "outputs": [
    {
     "data": {
      "text/html": [
       "<style>#sk-container-id-3 {color: black;}#sk-container-id-3 pre{padding: 0;}#sk-container-id-3 div.sk-toggleable {background-color: white;}#sk-container-id-3 label.sk-toggleable__label {cursor: pointer;display: block;width: 100%;margin-bottom: 0;padding: 0.3em;box-sizing: border-box;text-align: center;}#sk-container-id-3 label.sk-toggleable__label-arrow:before {content: \"▸\";float: left;margin-right: 0.25em;color: #696969;}#sk-container-id-3 label.sk-toggleable__label-arrow:hover:before {color: black;}#sk-container-id-3 div.sk-estimator:hover label.sk-toggleable__label-arrow:before {color: black;}#sk-container-id-3 div.sk-toggleable__content {max-height: 0;max-width: 0;overflow: hidden;text-align: left;background-color: #f0f8ff;}#sk-container-id-3 div.sk-toggleable__content pre {margin: 0.2em;color: black;border-radius: 0.25em;background-color: #f0f8ff;}#sk-container-id-3 input.sk-toggleable__control:checked~div.sk-toggleable__content {max-height: 200px;max-width: 100%;overflow: auto;}#sk-container-id-3 input.sk-toggleable__control:checked~label.sk-toggleable__label-arrow:before {content: \"▾\";}#sk-container-id-3 div.sk-estimator input.sk-toggleable__control:checked~label.sk-toggleable__label {background-color: #d4ebff;}#sk-container-id-3 div.sk-label input.sk-toggleable__control:checked~label.sk-toggleable__label {background-color: #d4ebff;}#sk-container-id-3 input.sk-hidden--visually {border: 0;clip: rect(1px 1px 1px 1px);clip: rect(1px, 1px, 1px, 1px);height: 1px;margin: -1px;overflow: hidden;padding: 0;position: absolute;width: 1px;}#sk-container-id-3 div.sk-estimator {font-family: monospace;background-color: #f0f8ff;border: 1px dotted black;border-radius: 0.25em;box-sizing: border-box;margin-bottom: 0.5em;}#sk-container-id-3 div.sk-estimator:hover {background-color: #d4ebff;}#sk-container-id-3 div.sk-parallel-item::after {content: \"\";width: 100%;border-bottom: 1px solid gray;flex-grow: 1;}#sk-container-id-3 div.sk-label:hover label.sk-toggleable__label {background-color: #d4ebff;}#sk-container-id-3 div.sk-serial::before {content: \"\";position: absolute;border-left: 1px solid gray;box-sizing: border-box;top: 0;bottom: 0;left: 50%;z-index: 0;}#sk-container-id-3 div.sk-serial {display: flex;flex-direction: column;align-items: center;background-color: white;padding-right: 0.2em;padding-left: 0.2em;position: relative;}#sk-container-id-3 div.sk-item {position: relative;z-index: 1;}#sk-container-id-3 div.sk-parallel {display: flex;align-items: stretch;justify-content: center;background-color: white;position: relative;}#sk-container-id-3 div.sk-item::before, #sk-container-id-3 div.sk-parallel-item::before {content: \"\";position: absolute;border-left: 1px solid gray;box-sizing: border-box;top: 0;bottom: 0;left: 50%;z-index: -1;}#sk-container-id-3 div.sk-parallel-item {display: flex;flex-direction: column;z-index: 1;position: relative;background-color: white;}#sk-container-id-3 div.sk-parallel-item:first-child::after {align-self: flex-end;width: 50%;}#sk-container-id-3 div.sk-parallel-item:last-child::after {align-self: flex-start;width: 50%;}#sk-container-id-3 div.sk-parallel-item:only-child::after {width: 0;}#sk-container-id-3 div.sk-dashed-wrapped {border: 1px dashed gray;margin: 0 0.4em 0.5em 0.4em;box-sizing: border-box;padding-bottom: 0.4em;background-color: white;}#sk-container-id-3 div.sk-label label {font-family: monospace;font-weight: bold;display: inline-block;line-height: 1.2em;}#sk-container-id-3 div.sk-label-container {text-align: center;}#sk-container-id-3 div.sk-container {/* jupyter's `normalize.less` sets `[hidden] { display: none; }` but bootstrap.min.css set `[hidden] { display: none !important; }` so we also need the `!important` here to be able to override the default hidden behavior on the sphinx rendered scikit-learn.org. See: https://github.com/scikit-learn/scikit-learn/issues/21755 */display: inline-block !important;position: relative;}#sk-container-id-3 div.sk-text-repr-fallback {display: none;}</style><div id=\"sk-container-id-3\" class=\"sk-top-container\"><div class=\"sk-text-repr-fallback\"><pre>GridSearchCV(cv=5,\n",
       "             estimator=Pipeline(steps=[(&#x27;scaler&#x27;, StandardScaler()),\n",
       "                                       (&#x27;clf&#x27;,\n",
       "                                        DecisionTreeClassifier(random_state=13))]),\n",
       "             param_grid=[{&#x27;clf__max_depth&#x27;: [2, 4, 7, 18]}])</pre><b>In a Jupyter environment, please rerun this cell to show the HTML representation or trust the notebook. <br />On GitHub, the HTML representation is unable to render, please try loading this page with nbviewer.org.</b></div><div class=\"sk-container\" hidden><div class=\"sk-item sk-dashed-wrapped\"><div class=\"sk-label-container\"><div class=\"sk-label sk-toggleable\"><input class=\"sk-toggleable__control sk-hidden--visually\" id=\"sk-estimator-id-5\" type=\"checkbox\" ><label for=\"sk-estimator-id-5\" class=\"sk-toggleable__label sk-toggleable__label-arrow\">GridSearchCV</label><div class=\"sk-toggleable__content\"><pre>GridSearchCV(cv=5,\n",
       "             estimator=Pipeline(steps=[(&#x27;scaler&#x27;, StandardScaler()),\n",
       "                                       (&#x27;clf&#x27;,\n",
       "                                        DecisionTreeClassifier(random_state=13))]),\n",
       "             param_grid=[{&#x27;clf__max_depth&#x27;: [2, 4, 7, 18]}])</pre></div></div></div><div class=\"sk-parallel\"><div class=\"sk-parallel-item\"><div class=\"sk-item\"><div class=\"sk-label-container\"><div class=\"sk-label sk-toggleable\"><input class=\"sk-toggleable__control sk-hidden--visually\" id=\"sk-estimator-id-6\" type=\"checkbox\" ><label for=\"sk-estimator-id-6\" class=\"sk-toggleable__label sk-toggleable__label-arrow\">estimator: Pipeline</label><div class=\"sk-toggleable__content\"><pre>Pipeline(steps=[(&#x27;scaler&#x27;, StandardScaler()),\n",
       "                (&#x27;clf&#x27;, DecisionTreeClassifier(random_state=13))])</pre></div></div></div><div class=\"sk-serial\"><div class=\"sk-item\"><div class=\"sk-serial\"><div class=\"sk-item\"><div class=\"sk-estimator sk-toggleable\"><input class=\"sk-toggleable__control sk-hidden--visually\" id=\"sk-estimator-id-7\" type=\"checkbox\" ><label for=\"sk-estimator-id-7\" class=\"sk-toggleable__label sk-toggleable__label-arrow\">StandardScaler</label><div class=\"sk-toggleable__content\"><pre>StandardScaler()</pre></div></div></div><div class=\"sk-item\"><div class=\"sk-estimator sk-toggleable\"><input class=\"sk-toggleable__control sk-hidden--visually\" id=\"sk-estimator-id-8\" type=\"checkbox\" ><label for=\"sk-estimator-id-8\" class=\"sk-toggleable__label sk-toggleable__label-arrow\">DecisionTreeClassifier</label><div class=\"sk-toggleable__content\"><pre>DecisionTreeClassifier(random_state=13)</pre></div></div></div></div></div></div></div></div></div></div></div></div>"
      ],
      "text/plain": [
       "GridSearchCV(cv=5,\n",
       "             estimator=Pipeline(steps=[('scaler', StandardScaler()),\n",
       "                                       ('clf',\n",
       "                                        DecisionTreeClassifier(random_state=13))]),\n",
       "             param_grid=[{'clf__max_depth': [2, 4, 7, 18]}])"
      ]
     },
     "execution_count": 71,
     "metadata": {},
     "output_type": "execute_result"
    }
   ],
   "source": [
    "from sklearn.pipeline import Pipeline\n",
    "from sklearn.tree import DecisionTreeClassifier\n",
    "from sklearn.preprocessing import StandardScaler\n",
    "\n",
    "# pipeline에 사용될 estimaotrs\n",
    "estimators = [('scaler', StandardScaler()),\n",
    "              ('clf', DecisionTreeClassifier(random_state=13))]\n",
    "\n",
    "# pipeline 구축\n",
    "pipe = Pipeline(estimators)\n",
    "\n",
    "# pipeline의 clf작업에서 탐색할 max_depth 하이퍼파라미터 리스트 지정\n",
    "param_grid = [{'clf__max_depth' : [2, 4, 7, 18]}]\n",
    "\n",
    "# 그리드 서치 수행\n",
    "gridsearch = GridSearchCV(estimator=pipe, param_grid=param_grid, cv=5)\n",
    "gridsearch.fit(x, y)"
   ]
  },
  {
   "cell_type": "code",
   "execution_count": 72,
   "metadata": {},
   "outputs": [
    {
     "data": {
      "text/html": [
       "<style>#sk-container-id-4 {color: black;}#sk-container-id-4 pre{padding: 0;}#sk-container-id-4 div.sk-toggleable {background-color: white;}#sk-container-id-4 label.sk-toggleable__label {cursor: pointer;display: block;width: 100%;margin-bottom: 0;padding: 0.3em;box-sizing: border-box;text-align: center;}#sk-container-id-4 label.sk-toggleable__label-arrow:before {content: \"▸\";float: left;margin-right: 0.25em;color: #696969;}#sk-container-id-4 label.sk-toggleable__label-arrow:hover:before {color: black;}#sk-container-id-4 div.sk-estimator:hover label.sk-toggleable__label-arrow:before {color: black;}#sk-container-id-4 div.sk-toggleable__content {max-height: 0;max-width: 0;overflow: hidden;text-align: left;background-color: #f0f8ff;}#sk-container-id-4 div.sk-toggleable__content pre {margin: 0.2em;color: black;border-radius: 0.25em;background-color: #f0f8ff;}#sk-container-id-4 input.sk-toggleable__control:checked~div.sk-toggleable__content {max-height: 200px;max-width: 100%;overflow: auto;}#sk-container-id-4 input.sk-toggleable__control:checked~label.sk-toggleable__label-arrow:before {content: \"▾\";}#sk-container-id-4 div.sk-estimator input.sk-toggleable__control:checked~label.sk-toggleable__label {background-color: #d4ebff;}#sk-container-id-4 div.sk-label input.sk-toggleable__control:checked~label.sk-toggleable__label {background-color: #d4ebff;}#sk-container-id-4 input.sk-hidden--visually {border: 0;clip: rect(1px 1px 1px 1px);clip: rect(1px, 1px, 1px, 1px);height: 1px;margin: -1px;overflow: hidden;padding: 0;position: absolute;width: 1px;}#sk-container-id-4 div.sk-estimator {font-family: monospace;background-color: #f0f8ff;border: 1px dotted black;border-radius: 0.25em;box-sizing: border-box;margin-bottom: 0.5em;}#sk-container-id-4 div.sk-estimator:hover {background-color: #d4ebff;}#sk-container-id-4 div.sk-parallel-item::after {content: \"\";width: 100%;border-bottom: 1px solid gray;flex-grow: 1;}#sk-container-id-4 div.sk-label:hover label.sk-toggleable__label {background-color: #d4ebff;}#sk-container-id-4 div.sk-serial::before {content: \"\";position: absolute;border-left: 1px solid gray;box-sizing: border-box;top: 0;bottom: 0;left: 50%;z-index: 0;}#sk-container-id-4 div.sk-serial {display: flex;flex-direction: column;align-items: center;background-color: white;padding-right: 0.2em;padding-left: 0.2em;position: relative;}#sk-container-id-4 div.sk-item {position: relative;z-index: 1;}#sk-container-id-4 div.sk-parallel {display: flex;align-items: stretch;justify-content: center;background-color: white;position: relative;}#sk-container-id-4 div.sk-item::before, #sk-container-id-4 div.sk-parallel-item::before {content: \"\";position: absolute;border-left: 1px solid gray;box-sizing: border-box;top: 0;bottom: 0;left: 50%;z-index: -1;}#sk-container-id-4 div.sk-parallel-item {display: flex;flex-direction: column;z-index: 1;position: relative;background-color: white;}#sk-container-id-4 div.sk-parallel-item:first-child::after {align-self: flex-end;width: 50%;}#sk-container-id-4 div.sk-parallel-item:last-child::after {align-self: flex-start;width: 50%;}#sk-container-id-4 div.sk-parallel-item:only-child::after {width: 0;}#sk-container-id-4 div.sk-dashed-wrapped {border: 1px dashed gray;margin: 0 0.4em 0.5em 0.4em;box-sizing: border-box;padding-bottom: 0.4em;background-color: white;}#sk-container-id-4 div.sk-label label {font-family: monospace;font-weight: bold;display: inline-block;line-height: 1.2em;}#sk-container-id-4 div.sk-label-container {text-align: center;}#sk-container-id-4 div.sk-container {/* jupyter's `normalize.less` sets `[hidden] { display: none; }` but bootstrap.min.css set `[hidden] { display: none !important; }` so we also need the `!important` here to be able to override the default hidden behavior on the sphinx rendered scikit-learn.org. See: https://github.com/scikit-learn/scikit-learn/issues/21755 */display: inline-block !important;position: relative;}#sk-container-id-4 div.sk-text-repr-fallback {display: none;}</style><div id=\"sk-container-id-4\" class=\"sk-top-container\"><div class=\"sk-text-repr-fallback\"><pre>Pipeline(steps=[(&#x27;scaler&#x27;, StandardScaler()),\n",
       "                (&#x27;clf&#x27;, DecisionTreeClassifier(max_depth=2, random_state=13))])</pre><b>In a Jupyter environment, please rerun this cell to show the HTML representation or trust the notebook. <br />On GitHub, the HTML representation is unable to render, please try loading this page with nbviewer.org.</b></div><div class=\"sk-container\" hidden><div class=\"sk-item sk-dashed-wrapped\"><div class=\"sk-label-container\"><div class=\"sk-label sk-toggleable\"><input class=\"sk-toggleable__control sk-hidden--visually\" id=\"sk-estimator-id-9\" type=\"checkbox\" ><label for=\"sk-estimator-id-9\" class=\"sk-toggleable__label sk-toggleable__label-arrow\">Pipeline</label><div class=\"sk-toggleable__content\"><pre>Pipeline(steps=[(&#x27;scaler&#x27;, StandardScaler()),\n",
       "                (&#x27;clf&#x27;, DecisionTreeClassifier(max_depth=2, random_state=13))])</pre></div></div></div><div class=\"sk-serial\"><div class=\"sk-item\"><div class=\"sk-estimator sk-toggleable\"><input class=\"sk-toggleable__control sk-hidden--visually\" id=\"sk-estimator-id-10\" type=\"checkbox\" ><label for=\"sk-estimator-id-10\" class=\"sk-toggleable__label sk-toggleable__label-arrow\">StandardScaler</label><div class=\"sk-toggleable__content\"><pre>StandardScaler()</pre></div></div></div><div class=\"sk-item\"><div class=\"sk-estimator sk-toggleable\"><input class=\"sk-toggleable__control sk-hidden--visually\" id=\"sk-estimator-id-11\" type=\"checkbox\" ><label for=\"sk-estimator-id-11\" class=\"sk-toggleable__label sk-toggleable__label-arrow\">DecisionTreeClassifier</label><div class=\"sk-toggleable__content\"><pre>DecisionTreeClassifier(max_depth=2, random_state=13)</pre></div></div></div></div></div></div></div>"
      ],
      "text/plain": [
       "Pipeline(steps=[('scaler', StandardScaler()),\n",
       "                ('clf', DecisionTreeClassifier(max_depth=2, random_state=13))])"
      ]
     },
     "execution_count": 72,
     "metadata": {},
     "output_type": "execute_result"
    }
   ],
   "source": [
    "gridsearch.best_estimator_"
   ]
  },
  {
   "cell_type": "code",
   "execution_count": 75,
   "metadata": {},
   "outputs": [
    {
     "data": {
      "text/html": [
       "<div>\n",
       "<style scoped>\n",
       "    .dataframe tbody tr th:only-of-type {\n",
       "        vertical-align: middle;\n",
       "    }\n",
       "\n",
       "    .dataframe tbody tr th {\n",
       "        vertical-align: top;\n",
       "    }\n",
       "\n",
       "    .dataframe thead th {\n",
       "        text-align: right;\n",
       "    }\n",
       "</style>\n",
       "<table border=\"1\" class=\"dataframe\">\n",
       "  <thead>\n",
       "    <tr style=\"text-align: right;\">\n",
       "      <th></th>\n",
       "      <th>params</th>\n",
       "      <th>rank_test_score</th>\n",
       "      <th>mean_test_score</th>\n",
       "      <th>std_test_score</th>\n",
       "    </tr>\n",
       "  </thead>\n",
       "  <tbody>\n",
       "    <tr>\n",
       "      <th>0</th>\n",
       "      <td>{'clf__max_depth': 2}</td>\n",
       "      <td>1</td>\n",
       "      <td>0.688800</td>\n",
       "      <td>0.071799</td>\n",
       "    </tr>\n",
       "    <tr>\n",
       "      <th>1</th>\n",
       "      <td>{'clf__max_depth': 4}</td>\n",
       "      <td>2</td>\n",
       "      <td>0.663565</td>\n",
       "      <td>0.083905</td>\n",
       "    </tr>\n",
       "    <tr>\n",
       "      <th>2</th>\n",
       "      <td>{'clf__max_depth': 7}</td>\n",
       "      <td>3</td>\n",
       "      <td>0.653408</td>\n",
       "      <td>0.086993</td>\n",
       "    </tr>\n",
       "    <tr>\n",
       "      <th>3</th>\n",
       "      <td>{'clf__max_depth': 18}</td>\n",
       "      <td>4</td>\n",
       "      <td>0.607536</td>\n",
       "      <td>0.077626</td>\n",
       "    </tr>\n",
       "  </tbody>\n",
       "</table>\n",
       "</div>"
      ],
      "text/plain": [
       "                   params  rank_test_score  mean_test_score  std_test_score\n",
       "0   {'clf__max_depth': 2}                1         0.688800        0.071799\n",
       "1   {'clf__max_depth': 4}                2         0.663565        0.083905\n",
       "2   {'clf__max_depth': 7}                3         0.653408        0.086993\n",
       "3  {'clf__max_depth': 18}                4         0.607536        0.077626"
      ]
     },
     "execution_count": 75,
     "metadata": {},
     "output_type": "execute_result"
    }
   ],
   "source": [
    "import pandas as pd\n",
    "\n",
    "score_df = pd.DataFrame(gridsearch.cv_results_)\n",
    "score_df[['params', 'rank_test_score', 'mean_test_score', 'std_test_score']]"
   ]
  },
  {
   "cell_type": "code",
   "execution_count": 76,
   "metadata": {},
   "outputs": [],
   "source": [
    "import pandas as pd\n",
    "\n",
    "red_url = \"https://raw.githubusercontent.com/PinkWink/ML_tutorial/master/dataset/winequality-red.csv\"\n",
    "white_url = \"https://raw.githubusercontent.com/PinkWink/ML_tutorial/master/dataset/winequality-white.csv\"\n",
    "\n",
    "red_wine = pd.read_csv(red_url, sep=';')\n",
    "white_wine = pd.read_csv(white_url, sep=';')\n",
    "\n",
    "red_wine['color'] = 1.\n",
    "white_wine['color'] = 0.\n",
    "\n",
    "wine = pd.concat([red_wine, white_wine])\n",
    "\n",
    "wine['taste'] = [1. if grade > 5 else 0. for grade in wine['quality']]\n",
    "\n",
    "x = wine.drop(['taste', 'quality'], axis=1)\n",
    "y = wine['taste']"
   ]
  },
  {
   "cell_type": "code",
   "execution_count": 77,
   "metadata": {},
   "outputs": [
    {
     "name": "stdout",
     "output_type": "stream",
     "text": [
      "Train Acc :  0.7294593034442948\n",
      "Test Acc :  0.7161538461538461\n"
     ]
    }
   ],
   "source": [
    "from sklearn.model_selection import train_test_split\n",
    "from sklearn.tree import DecisionTreeClassifier\n",
    "from sklearn.metrics import accuracy_score\n",
    "\n",
    "x_train, x_test, y_train, y_test = train_test_split(x, y,\n",
    "                                                    test_size=0.2,\n",
    "                                                    random_state=13)\n",
    "\n",
    "wine_tree = DecisionTreeClassifier(max_depth=2, random_state=13)\n",
    "wine_tree.fit(x_train, y_train)\n",
    "\n",
    "y_pred_tr = wine_tree.predict(x_train)\n",
    "y_pred_test = wine_tree.predict(x_test)\n",
    "\n",
    "print('Train Acc : ', accuracy_score(y_train, y_pred_tr))\n",
    "print('Test Acc : ', accuracy_score(y_test, y_pred_test))"
   ]
  },
  {
   "cell_type": "code",
   "execution_count": 78,
   "metadata": {},
   "outputs": [
    {
     "name": "stdout",
     "output_type": "stream",
     "text": [
      "Accuracy :  0.7161538461538461\n",
      "Recall :  0.7314702308626975\n",
      "Precision :  0.8026666666666666\n",
      "AUC Score :  0.7105988470875331\n",
      "F1 Score :  0.7654164017800381\n"
     ]
    }
   ],
   "source": [
    "from sklearn.metrics import accuracy_score, precision_score, recall_score, f1_score, roc_auc_score, roc_curve\n",
    "\n",
    "print(\"Accuracy : \", accuracy_score(y_test, y_pred_test))\n",
    "print(\"Recall : \", recall_score(y_test, y_pred_test))\n",
    "print(\"Precision : \", precision_score(y_test, y_pred_test))\n",
    "print(\"AUC Score : \", roc_auc_score(y_test, y_pred_test))\n",
    "print(\"F1 Score : \", f1_score(y_test, y_pred_test))"
   ]
  },
  {
   "cell_type": "code",
   "execution_count": 88,
   "metadata": {},
   "outputs": [
    {
     "data": {
      "image/png": "[encoded data removed]",
      "text/plain": [
       "<Figure size 1000x800 with 1 Axes>"
      ]
     },
     "metadata": {},
     "output_type": "display_data"
    }
   ],
   "source": [
    "import matplotlib.pyplot as plt\n",
    "%matplotlib inline\n",
    "\n",
    "# wine_tree 중 positive라고 예측한 확률\n",
    "pred_proba = wine_tree.predict_proba(x_test)[:, 1]\n",
    "# 실제 target data(y_test)와 positive라고 예측한 확률(pred_progba) 전달\n",
    "fpr, tpr, threshold = roc_curve(y_test, pred_proba)\n",
    "\n",
    "plt.figure(figsize=(10, 8))\n",
    "plt.plot([0, 1], [0, 1])\n",
    "plt.plot(fpr, tpr)\n",
    "plt.grid()\n",
    "plt.show()"
   ]
  },
  {
   "cell_type": "code",
   "execution_count": null,
   "metadata": {},
   "outputs": [],
   "source": []
  }
 ],
 "metadata": {
  "kernelspec": {
   "display_name": "eda_study",
   "language": "python",
   "name": "python3"
  },
  "language_info": {
   "codemirror_mode": {
    "name": "ipython",
    "version": 3
   },
   "file_extension": ".py",
   "mimetype": "text/x-python",
   "name": "python",
   "nbconvert_exporter": "python",
   "pygments_lexer": "ipython3",
   "version": "3.8.19"
  }
 },
 "nbformat": 4,
 "nbformat_minor": 2
}
