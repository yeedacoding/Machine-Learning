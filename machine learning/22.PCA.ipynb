{
 "cells": [
  {
   "cell_type": "markdown",
   "metadata": {},
   "source": [
    "# PCA - Principal Component Analysis"
   ]
  },
  {
   "cell_type": "markdown",
   "metadata": {},
   "source": [
    "## 간단한 데이터 생성"
   ]
  },
  {
   "cell_type": "code",
   "execution_count": 2,
   "metadata": {},
   "outputs": [
    {
     "data": {
      "text/plain": [
       "(200, 2)"
      ]
     },
     "execution_count": 2,
     "metadata": {},
     "output_type": "execute_result"
    }
   ],
   "source": [
    "import numpy as np\n",
    "import seaborn as sns\n",
    "sns.set_style(\"whitegrid\")\n",
    "\n",
    "rng = np.random.RandomState(13)\n",
    "x = np.dot(rng.rand(2, 2), rng.randn(2, 200)).T\n",
    "x.shape"
   ]
  },
  {
   "cell_type": "code",
   "execution_count": 3,
   "metadata": {},
   "outputs": [
    {
     "data": {
      "text/plain": [
       "array([[0.60735693, 0.79695268],\n",
       "       [0.81266616, 0.26598051]])"
      ]
     },
     "execution_count": 3,
     "metadata": {},
     "output_type": "execute_result"
    }
   ],
   "source": [
    "rng.rand(2,2)"
   ]
  },
  {
   "cell_type": "code",
   "execution_count": 4,
   "metadata": {},
   "outputs": [
    {
     "data": {
      "text/plain": [
       "array([[-2.23305285e+00,  1.42026788e-01,  7.42047827e-01,\n",
       "         1.11144113e+00,  4.49767208e-01, -1.43039670e+00,\n",
       "         9.42539772e-01, -5.35146593e-01, -4.58967168e-01,\n",
       "         1.15152877e+00, -1.97741771e+00,  2.23864876e+00,\n",
       "         9.00084997e-01,  8.89032373e-01, -1.52296574e-01,\n",
       "         7.04626895e-01,  6.12955068e-01,  2.39663182e-01,\n",
       "        -1.51202147e+00,  4.44697716e-01,  2.53220525e-01,\n",
       "         9.40787068e-01,  4.17302320e-01,  2.69558553e-01,\n",
       "         1.68721062e-01, -1.48895017e+00, -1.85526666e+00,\n",
       "        -1.10321722e-01, -7.04604762e-01,  4.55318527e-01,\n",
       "        -1.22067190e+00, -5.65046518e-01,  7.06188812e-01,\n",
       "         5.04389807e-03, -8.73259179e-01,  5.56018081e-01,\n",
       "         2.67381976e-01, -1.03193483e+00, -6.35903189e-01,\n",
       "         1.99779097e-01, -1.96516643e-01, -2.64890894e-01,\n",
       "        -5.36168707e-01, -2.69395632e+00,  4.81339952e-01,\n",
       "         3.08090862e-01, -1.37528268e-01, -1.80036570e+00,\n",
       "        -4.19985810e-01, -2.85337341e-02, -2.31813179e-01,\n",
       "        -1.16574987e-01, -2.23605378e+00,  5.83327650e-01,\n",
       "         5.42544027e-01,  6.26167294e-01,  1.25712573e+00,\n",
       "         1.82482097e-01,  1.31161805e+00, -1.25486039e+00,\n",
       "         6.35086900e-01, -2.68878502e-01,  1.36137096e+00,\n",
       "        -5.22634761e-01, -5.67239427e-01, -6.84790044e-01,\n",
       "         4.40378911e-01, -8.38480140e-01,  7.99876673e-01,\n",
       "         6.79026683e-01, -1.24056114e-03,  8.13436764e-02,\n",
       "        -6.87147212e-01,  1.83667422e+00,  7.57111274e-01,\n",
       "        -1.20857233e+00,  9.38603470e-01, -1.14668865e+00,\n",
       "         2.30820173e-01,  5.46757911e-01, -4.07616633e-01,\n",
       "        -6.68307894e-01,  2.61439593e-01,  4.68934649e-01,\n",
       "         1.11630272e-01,  2.82990508e-01, -1.46963463e+00,\n",
       "        -1.46369310e-01, -1.08359147e+00, -1.49392755e-04,\n",
       "        -1.15272575e+00, -9.13446285e-01, -1.05266780e+00,\n",
       "        -5.58610558e-01, -4.39333045e-01, -2.85288958e-01,\n",
       "         4.11944127e-01, -1.11143448e+00,  1.41450352e+00,\n",
       "        -5.46264797e-01, -9.55869365e-01,  1.00355283e-01,\n",
       "        -6.17689066e-01, -6.78818584e-01, -1.46446056e-02,\n",
       "        -1.46109084e+00,  7.97169836e-01, -1.57150383e+00,\n",
       "        -8.90214895e-01,  8.56810098e-01,  9.11375164e-01,\n",
       "         1.41289317e-01, -1.61588419e+00, -5.87765419e-01,\n",
       "        -8.05312335e-01, -8.44183759e-01, -5.26068359e-01,\n",
       "         1.69350276e-01,  6.49456896e-01,  3.40310966e-02,\n",
       "        -1.05494225e+00, -1.62184303e-01,  5.41840739e-02,\n",
       "         6.80668136e-01, -7.95929675e-01, -6.52964632e-01,\n",
       "        -8.24271458e-01, -1.29213489e+00,  2.00963954e-01,\n",
       "        -7.27705275e-01,  7.36058078e-01,  6.66016362e-01,\n",
       "        -1.46592507e-01,  7.84876136e-02, -5.39008134e-01,\n",
       "         5.42065313e-02, -3.57154066e-02,  1.00393028e+00,\n",
       "        -5.93639677e-01,  9.41060044e-01,  5.31723566e-01,\n",
       "         2.39581604e-01, -1.26952893e+00, -1.10038694e+00,\n",
       "        -1.24115693e-01,  2.36639806e-02, -1.34017426e+00,\n",
       "         1.61289833e+00,  7.09735272e-02, -2.11415609e-01,\n",
       "         4.47325151e-01, -8.40537000e-01, -2.14908831e+00,\n",
       "        -1.99482026e-01, -7.85549184e-01, -4.93198276e-02,\n",
       "         1.15737227e-01, -1.63264613e+00, -8.37812295e-01,\n",
       "         8.30942743e-01,  1.38509439e+00, -1.10664439e-01,\n",
       "         9.55208343e-02,  3.20066460e-01,  2.71330979e-01,\n",
       "         2.61136547e+00,  1.68349593e+00, -6.14483396e-01,\n",
       "        -2.89462012e-01,  1.17017664e+00,  5.99269524e-01,\n",
       "         9.69662138e-01,  6.92214885e-01, -8.12720294e-01,\n",
       "        -1.21157142e+00, -1.43146871e+00, -6.60382194e-01,\n",
       "         4.44527548e-01, -5.00780656e-01,  2.04414288e+00,\n",
       "        -1.56050531e+00, -2.32763396e-01,  1.06820091e+00,\n",
       "         1.90064788e+00, -9.21571080e-01,  3.18789502e-01,\n",
       "         7.21251946e-01, -1.94975100e+00,  8.14001379e-01,\n",
       "         1.84672351e-01, -3.96357863e-01,  9.83866022e-01,\n",
       "         9.45008750e-02, -7.32815170e-01,  1.35945803e+00,\n",
       "        -6.15533263e-01,  1.29405630e+00, -2.36469608e+00,\n",
       "         9.21435480e-01, -2.92880210e-01],\n",
       "       [ 3.00842716e-01,  1.97455983e-01,  1.03885375e+00,\n",
       "        -8.17754601e-01, -1.64824223e-01, -2.97806801e-01,\n",
       "         5.06356749e-01,  1.64624816e-02,  3.05606840e-01,\n",
       "         3.97888450e-01, -1.64966912e+00, -1.99560288e-01,\n",
       "         1.35946763e-01,  2.47660789e-01,  2.50335405e+00,\n",
       "         8.38073067e-01,  1.33632348e+00, -3.94436100e-01,\n",
       "         8.61722207e-01,  1.84977639e+00, -3.93036293e-01,\n",
       "        -5.70866277e-01, -1.45326656e+00, -1.24957652e+00,\n",
       "         1.72338635e+00, -1.42652393e+00, -5.10073284e-02,\n",
       "         8.23467571e-01,  2.26690772e-01,  3.11882012e-01,\n",
       "        -3.19922578e-02,  1.05272073e+00, -1.36328141e+00,\n",
       "        -3.21705735e-01, -9.37508818e-03, -1.83394600e+00,\n",
       "        -6.85057762e-01, -1.50994569e-01,  1.54820020e+00,\n",
       "        -5.92315288e-01,  1.21323643e+00, -6.72938621e-01,\n",
       "         1.70564212e+00, -3.74813148e-01,  1.08247896e+00,\n",
       "         2.96625010e+00,  1.02223867e+00,  1.49168746e+00,\n",
       "        -1.02714921e+00,  6.07508601e-01,  7.67850738e-01,\n",
       "        -1.55134983e-01,  3.07113282e-01, -1.06965201e+00,\n",
       "        -4.43504931e-01, -1.21319955e+00, -1.50203602e+00,\n",
       "         7.49678338e-01, -7.97706939e-01,  3.35726598e-01,\n",
       "         1.87034991e+00,  1.11092744e+00, -6.14746320e-01,\n",
       "        -2.42200455e-01, -6.39743052e-01,  1.51465976e-02,\n",
       "         1.72801106e+00,  1.64213363e+00, -5.02298400e-01,\n",
       "        -1.35530114e+00,  1.06972630e+00, -2.28045983e+00,\n",
       "         5.91511053e-01, -2.27102844e+00,  4.28214351e-01,\n",
       "         2.29010774e-01, -4.20549769e-01, -1.11277810e+00,\n",
       "         5.54097034e-01,  4.56717699e-01,  1.56357772e-01,\n",
       "         2.36567356e+00, -2.28760153e-01, -5.18327757e-01,\n",
       "         1.44651439e+00,  3.10186354e+00, -6.02197756e-01,\n",
       "        -1.60332001e-01, -4.35208047e-01,  3.25532267e-01,\n",
       "         8.42312886e-01, -6.90849771e-01, -2.05874254e-01,\n",
       "        -9.17682335e-01,  2.36716247e-01, -2.38608713e-01,\n",
       "         4.27667145e-01, -2.06793935e-01,  1.80081739e-01,\n",
       "        -1.62987848e+00, -5.97141127e-01, -3.95427389e-01,\n",
       "         2.08494646e-01, -1.05168451e+00, -5.15534346e-01,\n",
       "         9.92559757e-01,  4.53790011e-01, -6.36976867e-01,\n",
       "        -8.23757040e-03, -3.20567598e-01,  2.48745689e-01,\n",
       "        -2.76742487e-01, -9.28702594e-01,  1.24654859e-01,\n",
       "        -1.51960178e+00,  6.69508435e-01,  9.89811258e-01,\n",
       "         8.90915265e-01, -1.36464534e+00, -1.22889548e-01,\n",
       "         8.66296247e-01,  2.47217953e-01,  3.33877316e-01,\n",
       "         1.73174617e-01,  8.23953492e-01, -1.24553385e-01,\n",
       "        -1.59233117e+00,  3.23534715e-01,  2.19932045e+00,\n",
       "         7.61722094e-01,  6.64623054e-01,  2.00428782e+00,\n",
       "        -7.16092399e-01, -9.50646987e-01, -3.61980474e-01,\n",
       "         5.11460403e-01,  1.85350563e+00,  1.15074603e+00,\n",
       "         9.51265502e-03,  1.52013342e+00,  3.79428274e-01,\n",
       "         3.77504076e-01, -9.91891778e-02, -8.43581932e-01,\n",
       "        -1.53782361e-01, -9.11377389e-01, -2.01335975e+00,\n",
       "        -7.64447248e-01,  1.39847697e+00, -2.12745857e-01,\n",
       "        -1.36346096e+00,  2.01401501e-01,  2.43851007e+00,\n",
       "        -4.98543951e-02,  2.53351502e+00,  6.23685545e-01,\n",
       "        -1.98584416e+00,  4.05738002e-01,  2.20848074e+00,\n",
       "         5.87106145e-01, -1.09684594e+00,  4.84118420e-01,\n",
       "         1.41586495e+00, -1.46701169e+00,  2.30402823e-01,\n",
       "         4.31946895e-01,  1.17817058e+00, -2.89035009e-01,\n",
       "        -7.72677752e-01,  7.32170705e-01,  4.29672594e-01,\n",
       "         4.28538597e-02, -3.85417811e-01,  9.36653219e-01,\n",
       "        -4.10707743e-01,  2.30578448e+00, -2.59459380e-01,\n",
       "         1.37564914e+00,  1.16457816e+00,  5.29927826e-01,\n",
       "        -5.24738481e-02,  1.20349223e+00,  2.02473172e-01,\n",
       "        -8.07229525e-01,  1.84310482e-01,  5.02355940e-01,\n",
       "        -1.66255235e+00,  1.19085839e+00, -1.81929933e+00,\n",
       "         2.99991138e-01, -3.44396204e-02, -1.67487456e+00,\n",
       "        -1.89409739e-01, -1.00886454e+00,  4.15190466e-01,\n",
       "        -6.18282384e-01,  2.62568229e-01,  3.96449918e-01,\n",
       "         1.14781205e+00, -8.45186532e-01]])"
      ]
     },
     "execution_count": 4,
     "metadata": {},
     "output_type": "execute_result"
    }
   ],
   "source": [
    "rng.randn(2, 200)"
   ]
  },
  {
   "cell_type": "code",
   "execution_count": 6,
   "metadata": {},
   "outputs": [
    {
     "data": {
      "text/plain": [
       "array([[-2.28478921e-02,  9.98220980e-02],\n",
       "       [ 6.26843943e-02,  5.08199149e-01],\n",
       "       [-9.15775547e-03,  1.43004254e-01],\n",
       "       [ 1.08357047e-01,  5.21287747e-01],\n",
       "       [ 3.18639721e-01,  1.50584498e+00],\n",
       "       [ 4.39035661e-02,  1.75800181e-01],\n",
       "       [ 1.65759856e-01,  1.26413798e+00],\n",
       "       [ 1.39512003e-01,  3.03500008e-01],\n",
       "       [ 1.07364087e-01,  7.22648825e-01],\n",
       "       [ 3.67954875e-03,  2.96429845e-01],\n",
       "       [-2.85002894e-02, -1.66452547e-02],\n",
       "       [-2.68609918e-01, -1.82158930e+00],\n",
       "       [ 1.30235661e-01,  6.10931949e-01],\n",
       "       [ 1.72393858e-01,  7.99085325e-01],\n",
       "       [ 1.10895839e-01,  3.02927327e-01],\n",
       "       [ 1.15299553e-01,  3.81756809e-01],\n",
       "       [-2.61271142e-01, -1.29111825e+00],\n",
       "       [ 1.74380941e-01,  9.56036747e-01],\n",
       "       [-2.26236973e-01, -1.21757831e+00],\n",
       "       [ 1.10519848e-01,  6.26545042e-01],\n",
       "       [-6.08167844e-02, -5.68216213e-01],\n",
       "       [ 1.27479968e-01,  1.12766246e+00],\n",
       "       [-2.06363658e-01, -1.36233465e+00],\n",
       "       [-5.63678914e-02, -2.92914461e-01],\n",
       "       [-4.08206464e-02, -4.92987490e-01],\n",
       "       [-5.40965859e-02, -5.48459576e-01],\n",
       "       [ 3.36057068e-01,  1.64221156e+00],\n",
       "       [ 2.00483444e-01,  1.26220679e+00],\n",
       "       [ 3.12119660e-02, -6.82499826e-02],\n",
       "       [ 1.26907676e-01,  6.81291180e-01],\n",
       "       [-4.95271206e-02, -3.76990396e-01],\n",
       "       [ 2.51028828e-01,  1.36451976e+00],\n",
       "       [-3.62033873e-01, -2.38007238e+00],\n",
       "       [ 1.19914194e-01,  6.90781102e-01],\n",
       "       [-1.21056716e-01, -6.69913374e-01],\n",
       "       [-4.09933122e-02, -2.62600697e-01],\n",
       "       [-2.92178896e-01, -1.46523974e+00],\n",
       "       [-3.73091362e-01, -2.18187349e+00],\n",
       "       [ 2.28827032e-01,  1.27340764e+00],\n",
       "       [ 9.67543088e-02,  5.39684748e-01],\n",
       "       [ 2.94528533e-02, -1.11913641e-01],\n",
       "       [-6.73848311e-02, -4.41617293e-01],\n",
       "       [-1.60942967e-01, -8.59790539e-01],\n",
       "       [-9.68715242e-02, -9.90727409e-01],\n",
       "       [ 1.78927337e-01,  8.11355056e-01],\n",
       "       [-7.82414155e-02, -2.18131267e-01],\n",
       "       [-3.29391150e-01, -1.52779199e+00],\n",
       "       [-8.19128890e-02, -4.18980765e-01],\n",
       "       [-1.74448186e-01, -1.26332331e+00],\n",
       "       [-3.18046735e-01, -1.67390254e+00],\n",
       "       [-3.64837741e-01, -2.13723043e+00],\n",
       "       [ 1.79024200e-02, -1.13560819e-01],\n",
       "       [ 2.17922300e-01,  1.04354812e+00],\n",
       "       [ 5.56353173e-01,  3.34106857e+00],\n",
       "       [-6.95788528e-02, -3.90787658e-01],\n",
       "       [ 7.50601066e-02,  3.25911546e-01],\n",
       "       [-6.53418531e-02, -4.46812610e-01],\n",
       "       [-1.87111911e-01, -9.75162910e-01],\n",
       "       [ 2.78436394e-02,  3.92527038e-01],\n",
       "       [ 5.10123617e-02,  6.45659618e-02],\n",
       "       [-1.58700172e-01, -7.45097774e-01],\n",
       "       [-3.41968201e-02, -4.28438369e-04],\n",
       "       [-1.03788431e-01, -7.42111187e-01],\n",
       "       [ 1.30067843e-01,  1.20894894e+00],\n",
       "       [-2.22829372e-01, -1.16565091e+00],\n",
       "       [-3.31300221e-02, -1.10876421e-01],\n",
       "       [ 3.40144537e-01,  1.93540236e+00],\n",
       "       [ 4.31966249e-03, -1.01736834e-01],\n",
       "       [-4.41580526e-01, -2.83530568e+00],\n",
       "       [ 7.14115149e-02,  3.79022091e-01],\n",
       "       [ 9.14846730e-03,  2.44665193e-01],\n",
       "       [ 8.36167454e-02,  3.96962945e-01],\n",
       "       [ 1.05260328e-01,  7.48036795e-01],\n",
       "       [-1.74037908e-01, -7.63701886e-01],\n",
       "       [ 9.55155679e-02,  9.32559688e-01],\n",
       "       [ 2.21139821e-01,  1.50276414e+00],\n",
       "       [ 6.48347620e-02,  3.65030497e-01],\n",
       "       [ 8.29830524e-02,  7.39824410e-01],\n",
       "       [ 2.70719403e-02,  3.19135544e-02],\n",
       "       [-8.08790050e-02, -1.97076051e-01],\n",
       "       [ 2.28287737e-02,  3.88231110e-01],\n",
       "       [-1.55354847e-01, -9.85323006e-01],\n",
       "       [-3.09106143e-01, -1.32744797e+00],\n",
       "       [-1.30735577e-01, -1.13331176e+00],\n",
       "       [-2.32561092e-01, -1.37471472e+00],\n",
       "       [-1.52288252e-01, -1.06628797e+00],\n",
       "       [-7.60804234e-02, -1.25744628e-01],\n",
       "       [ 1.74556174e-02, -1.67858110e-01],\n",
       "       [ 1.24273577e-01,  1.00357430e+00],\n",
       "       [-1.82118021e-01, -1.09073589e+00],\n",
       "       [ 1.11737007e-01,  3.54990396e-01],\n",
       "       [-2.21307938e-01, -1.36751679e+00],\n",
       "       [-2.48618125e-01, -1.12362556e+00],\n",
       "       [ 1.55847351e-01,  5.86777526e-01],\n",
       "       [-8.92786944e-02, -4.50269782e-01],\n",
       "       [-1.12051645e-01, -3.95278871e-01],\n",
       "       [-5.73122101e-02, -2.75053842e-01],\n",
       "       [ 1.21678019e-01,  3.63795452e-01],\n",
       "       [-5.83182154e-02, -5.97233496e-01],\n",
       "       [-1.20980978e-01, -5.27878055e-01],\n",
       "       [ 2.00245867e-01,  1.40817583e+00],\n",
       "       [ 5.13804418e-01,  2.71227643e+00],\n",
       "       [ 1.55756227e-01,  7.64515571e-01],\n",
       "       [ 1.32988578e-01,  4.58914791e-01],\n",
       "       [ 3.59167216e-02,  4.22559712e-01],\n",
       "       [ 7.69237195e-03,  1.09913745e-01],\n",
       "       [ 2.68811650e-01,  1.09155869e+00],\n",
       "       [-9.25596679e-02, -5.42904982e-01],\n",
       "       [ 1.53174778e-02, -9.20252497e-02],\n",
       "       [ 3.32793862e-02, -1.23424690e-01],\n",
       "       [ 1.11834906e-01,  4.77274338e-01],\n",
       "       [-7.08729941e-02, -4.67057089e-01],\n",
       "       [ 1.70670374e-01,  8.29513864e-01],\n",
       "       [-9.89554583e-02, -5.62464197e-01],\n",
       "       [-3.16413461e-01, -1.86125058e+00],\n",
       "       [ 1.01127313e-01,  5.30687680e-01],\n",
       "       [ 2.09253548e-01,  1.46572627e+00],\n",
       "       [-2.02485054e-01, -1.26982505e+00],\n",
       "       [ 3.98744893e-02,  2.86285781e-01],\n",
       "       [-2.69796583e-01, -1.45485896e+00],\n",
       "       [ 9.65452225e-02,  5.23475490e-01],\n",
       "       [ 4.59948858e-01,  2.85279785e+00],\n",
       "       [-1.56916958e-01, -4.04137176e-01],\n",
       "       [-1.96878674e-01, -1.05355956e+00],\n",
       "       [-1.60941041e-01, -9.34491048e-01],\n",
       "       [-2.33833631e-01, -1.21258326e+00],\n",
       "       [ 1.02001455e-01,  6.28594350e-01],\n",
       "       [ 1.94531131e-01,  8.06902005e-01],\n",
       "       [-8.61119017e-02, -6.81848509e-01],\n",
       "       [ 2.49526157e-01,  1.23762709e+00],\n",
       "       [-1.99144025e-01, -1.50573604e+00],\n",
       "       [ 1.10566142e-03, -1.81335106e-01],\n",
       "       [ 8.42555043e-02,  7.73546131e-01],\n",
       "       [ 1.58968765e-02, -3.94069464e-02],\n",
       "       [-1.54698005e-01, -7.55258452e-01],\n",
       "       [ 1.07717914e-01,  2.20301951e-01],\n",
       "       [-2.57474316e-01, -1.44515243e+00],\n",
       "       [-2.76094359e-01, -1.63045514e+00],\n",
       "       [-6.22266360e-02, -5.62987449e-01],\n",
       "       [-2.72177647e-01, -1.65102323e+00],\n",
       "       [-2.11616276e-01, -1.77254615e+00],\n",
       "       [ 7.28339461e-02,  2.93585015e-01],\n",
       "       [-8.06657846e-02, -6.57529710e-01],\n",
       "       [-1.66676099e-01, -5.07251752e-01],\n",
       "       [ 4.76521101e-02,  3.84519771e-01],\n",
       "       [ 9.26868887e-02,  6.00343066e-01],\n",
       "       [ 1.20863718e-01,  8.76961692e-01],\n",
       "       [ 1.15819887e-01,  8.86812671e-01],\n",
       "       [-1.50060157e-01, -8.02179628e-01],\n",
       "       [ 7.12290731e-02,  6.92503720e-01],\n",
       "       [ 2.72196691e-01,  1.79472224e+00],\n",
       "       [ 1.29165964e-01,  7.73101783e-01],\n",
       "       [-2.18000448e-01, -1.34249605e+00],\n",
       "       [ 6.33736752e-02,  2.29369491e-01],\n",
       "       [ 1.78540534e-01,  8.52900576e-01],\n",
       "       [ 1.15387469e-01,  3.57124744e-01],\n",
       "       [-1.07752511e-01, -7.44395814e-01],\n",
       "       [ 5.09968832e-01,  2.75701032e+00],\n",
       "       [-2.50195523e-01, -1.20362747e+00],\n",
       "       [ 6.78642452e-02,  2.44394746e-01],\n",
       "       [ 1.00646688e-01,  6.55880052e-01],\n",
       "       [-9.35725539e-02, -6.55390720e-01],\n",
       "       [ 2.02741218e-01,  1.48844089e+00],\n",
       "       [-6.93262987e-02, -2.63810398e-01],\n",
       "       [ 6.91256835e-02,  4.23901472e-01],\n",
       "       [-1.75835592e-01, -1.18492245e+00],\n",
       "       [-1.13179688e-01, -6.72115642e-01],\n",
       "       [ 5.21063128e-02,  4.80577376e-01],\n",
       "       [-4.81213763e-02, -1.83923466e-01],\n",
       "       [ 9.94765319e-02,  4.31146698e-01],\n",
       "       [ 1.74343888e-01,  7.34602954e-01],\n",
       "       [ 3.45973158e-02,  2.82390487e-01],\n",
       "       [-1.31058126e-01, -1.09509343e+00],\n",
       "       [ 4.24324845e-01,  2.40407774e+00],\n",
       "       [-3.28679278e-02,  1.31987508e-01],\n",
       "       [ 2.10159309e-01,  1.25576162e+00],\n",
       "       [-2.43935697e-01, -1.59904039e+00],\n",
       "       [ 1.06963564e-01,  5.91213867e-01],\n",
       "       [ 2.84763816e-01,  1.76115516e+00],\n",
       "       [ 2.08849318e-01,  9.02660513e-01],\n",
       "       [-1.78529199e-01, -1.04967807e+00],\n",
       "       [-3.89884746e-02, -6.35200853e-01],\n",
       "       [-9.18854307e-02, -5.88721489e-01],\n",
       "       [ 2.48480588e-01,  1.31050277e+00],\n",
       "       [-3.55778450e-01, -2.12680935e+00],\n",
       "       [ 4.75936370e-02, -1.28190714e-01],\n",
       "       [ 3.54766956e-01,  1.85070576e+00],\n",
       "       [ 2.00735116e-01,  6.14102714e-01],\n",
       "       [ 1.95722394e-01,  9.08945257e-01],\n",
       "       [ 1.15091764e-02,  4.29396332e-02],\n",
       "       [ 9.49387887e-04,  2.37184604e-01],\n",
       "       [ 6.02080477e-02,  4.72380726e-02],\n",
       "       [ 8.81762902e-02,  4.04166112e-01],\n",
       "       [-3.33494356e-01, -1.78745933e+00],\n",
       "       [-3.95556768e-02,  1.81866876e-01],\n",
       "       [ 6.30948828e-02,  2.08009818e-01],\n",
       "       [ 1.79980224e-01,  1.30883314e+00],\n",
       "       [-3.04930351e-01, -1.60677138e+00],\n",
       "       [-1.67220558e-01, -7.99086723e-01],\n",
       "       [ 5.86339218e-02,  6.62195440e-01]])"
      ]
     },
     "execution_count": 6,
     "metadata": {},
     "output_type": "execute_result"
    }
   ],
   "source": [
    "np.dot(rng.rand(2,2), rng.randn(2, 200)).T"
   ]
  },
  {
   "cell_type": "code",
   "execution_count": null,
   "metadata": {},
   "outputs": [
    {
     "data": {
      "image/png": "[encoded data removed]",
      "text/plain": [
       "<Figure size 640x480 with 1 Axes>"
      ]
     },
     "metadata": {},
     "output_type": "display_data"
    }
   ],
   "source": [
    "import matplotlib.pyplot as plt\n",
    "\n",
    "plt.scatter(x[:, 0], x[:, 1])\n",
    "plt.axis('equal');  # x, y축 같은 간격으로 시각화"
   ]
  },
  {
   "cell_type": "markdown",
   "metadata": {},
   "source": [
    "## PCA fit"
   ]
  },
  {
   "cell_type": "code",
   "execution_count": 8,
   "metadata": {},
   "outputs": [
    {
     "data": {
      "text/html": [
       "<style>#sk-container-id-1 {color: black;}#sk-container-id-1 pre{padding: 0;}#sk-container-id-1 div.sk-toggleable {background-color: white;}#sk-container-id-1 label.sk-toggleable__label {cursor: pointer;display: block;width: 100%;margin-bottom: 0;padding: 0.3em;box-sizing: border-box;text-align: center;}#sk-container-id-1 label.sk-toggleable__label-arrow:before {content: \"▸\";float: left;margin-right: 0.25em;color: #696969;}#sk-container-id-1 label.sk-toggleable__label-arrow:hover:before {color: black;}#sk-container-id-1 div.sk-estimator:hover label.sk-toggleable__label-arrow:before {color: black;}#sk-container-id-1 div.sk-toggleable__content {max-height: 0;max-width: 0;overflow: hidden;text-align: left;background-color: #f0f8ff;}#sk-container-id-1 div.sk-toggleable__content pre {margin: 0.2em;color: black;border-radius: 0.25em;background-color: #f0f8ff;}#sk-container-id-1 input.sk-toggleable__control:checked~div.sk-toggleable__content {max-height: 200px;max-width: 100%;overflow: auto;}#sk-container-id-1 input.sk-toggleable__control:checked~label.sk-toggleable__label-arrow:before {content: \"▾\";}#sk-container-id-1 div.sk-estimator input.sk-toggleable__control:checked~label.sk-toggleable__label {background-color: #d4ebff;}#sk-container-id-1 div.sk-label input.sk-toggleable__control:checked~label.sk-toggleable__label {background-color: #d4ebff;}#sk-container-id-1 input.sk-hidden--visually {border: 0;clip: rect(1px 1px 1px 1px);clip: rect(1px, 1px, 1px, 1px);height: 1px;margin: -1px;overflow: hidden;padding: 0;position: absolute;width: 1px;}#sk-container-id-1 div.sk-estimator {font-family: monospace;background-color: #f0f8ff;border: 1px dotted black;border-radius: 0.25em;box-sizing: border-box;margin-bottom: 0.5em;}#sk-container-id-1 div.sk-estimator:hover {background-color: #d4ebff;}#sk-container-id-1 div.sk-parallel-item::after {content: \"\";width: 100%;border-bottom: 1px solid gray;flex-grow: 1;}#sk-container-id-1 div.sk-label:hover label.sk-toggleable__label {background-color: #d4ebff;}#sk-container-id-1 div.sk-serial::before {content: \"\";position: absolute;border-left: 1px solid gray;box-sizing: border-box;top: 0;bottom: 0;left: 50%;z-index: 0;}#sk-container-id-1 div.sk-serial {display: flex;flex-direction: column;align-items: center;background-color: white;padding-right: 0.2em;padding-left: 0.2em;position: relative;}#sk-container-id-1 div.sk-item {position: relative;z-index: 1;}#sk-container-id-1 div.sk-parallel {display: flex;align-items: stretch;justify-content: center;background-color: white;position: relative;}#sk-container-id-1 div.sk-item::before, #sk-container-id-1 div.sk-parallel-item::before {content: \"\";position: absolute;border-left: 1px solid gray;box-sizing: border-box;top: 0;bottom: 0;left: 50%;z-index: -1;}#sk-container-id-1 div.sk-parallel-item {display: flex;flex-direction: column;z-index: 1;position: relative;background-color: white;}#sk-container-id-1 div.sk-parallel-item:first-child::after {align-self: flex-end;width: 50%;}#sk-container-id-1 div.sk-parallel-item:last-child::after {align-self: flex-start;width: 50%;}#sk-container-id-1 div.sk-parallel-item:only-child::after {width: 0;}#sk-container-id-1 div.sk-dashed-wrapped {border: 1px dashed gray;margin: 0 0.4em 0.5em 0.4em;box-sizing: border-box;padding-bottom: 0.4em;background-color: white;}#sk-container-id-1 div.sk-label label {font-family: monospace;font-weight: bold;display: inline-block;line-height: 1.2em;}#sk-container-id-1 div.sk-label-container {text-align: center;}#sk-container-id-1 div.sk-container {/* jupyter's `normalize.less` sets `[hidden] { display: none; }` but bootstrap.min.css set `[hidden] { display: none !important; }` so we also need the `!important` here to be able to override the default hidden behavior on the sphinx rendered scikit-learn.org. See: https://github.com/scikit-learn/scikit-learn/issues/21755 */display: inline-block !important;position: relative;}#sk-container-id-1 div.sk-text-repr-fallback {display: none;}</style><div id=\"sk-container-id-1\" class=\"sk-top-container\"><div class=\"sk-text-repr-fallback\"><pre>PCA(n_components=2, random_state=13)</pre><b>In a Jupyter environment, please rerun this cell to show the HTML representation or trust the notebook. <br />On GitHub, the HTML representation is unable to render, please try loading this page with nbviewer.org.</b></div><div class=\"sk-container\" hidden><div class=\"sk-item\"><div class=\"sk-estimator sk-toggleable\"><input class=\"sk-toggleable__control sk-hidden--visually\" id=\"sk-estimator-id-1\" type=\"checkbox\" checked><label for=\"sk-estimator-id-1\" class=\"sk-toggleable__label sk-toggleable__label-arrow\">PCA</label><div class=\"sk-toggleable__content\"><pre>PCA(n_components=2, random_state=13)</pre></div></div></div></div></div>"
      ],
      "text/plain": [
       "PCA(n_components=2, random_state=13)"
      ]
     },
     "execution_count": 8,
     "metadata": {},
     "output_type": "execute_result"
    }
   ],
   "source": [
    "from sklearn.decomposition import PCA\n",
    "\n",
    "pca = PCA(n_components=2, random_state=13)\n",
    "pca.fit(x)"
   ]
  },
  {
   "cell_type": "markdown",
   "metadata": {},
   "source": [
    "## 벡터와 분산값"
   ]
  },
  {
   "cell_type": "code",
   "execution_count": 9,
   "metadata": {},
   "outputs": [
    {
     "data": {
      "text/plain": [
       "array([[ 0.47802511,  0.87834617],\n",
       "       [-0.87834617,  0.47802511]])"
      ]
     },
     "execution_count": 9,
     "metadata": {},
     "output_type": "execute_result"
    }
   ],
   "source": [
    "pca.components_"
   ]
  },
  {
   "cell_type": "code",
   "execution_count": 10,
   "metadata": {},
   "outputs": [
    {
     "data": {
      "text/plain": [
       "array([-0.03360413, -0.03527382])"
      ]
     },
     "execution_count": 10,
     "metadata": {},
     "output_type": "execute_result"
    }
   ],
   "source": [
    "pca.mean_"
   ]
  },
  {
   "cell_type": "code",
   "execution_count": 11,
   "metadata": {},
   "outputs": [
    {
     "data": {
      "text/plain": [
       "array([1.82531406, 0.13209947])"
      ]
     },
     "execution_count": 11,
     "metadata": {},
     "output_type": "execute_result"
    }
   ],
   "source": [
    "pca.explained_variance_"
   ]
  },
  {
   "cell_type": "code",
   "execution_count": 12,
   "metadata": {},
   "outputs": [
    {
     "data": {
      "text/plain": [
       "array([0.93251326, 0.06748674])"
      ]
     },
     "execution_count": 12,
     "metadata": {},
     "output_type": "execute_result"
    }
   ],
   "source": [
    "pca.explained_variance_ratio_"
   ]
  },
  {
   "cell_type": "markdown",
   "metadata": {},
   "source": [
    "## 주성분 벡터 시각화"
   ]
  },
  {
   "cell_type": "code",
   "execution_count": null,
   "metadata": {},
   "outputs": [],
   "source": [
    "def draw_vector(v0, v1, ax=None) :\n",
    "    ax = ax or plt.gca()    # ax값이 None이면 plt.gca()\n",
    "    arrowprops = dict(arrowstyle='->',\n",
    "                      linewidth=2, \n",
    "                      color='black',\n",
    "                      shrinkA=0, shrinkB=0)\n",
    "    ax.annotate('', v1, v0, arrowprops=arrowprops)"
   ]
  },
  {
   "cell_type": "code",
   "execution_count": null,
   "metadata": {},
   "outputs": [
    {
     "data": {
      "image/png": "[encoded data removed]",
      "text/plain": [
       "<Figure size 640x480 with 1 Axes>"
      ]
     },
     "metadata": {},
     "output_type": "display_data"
    }
   ],
   "source": [
    "plt.scatter(x[:,0], x[:,1], alpha=0.4)\n",
    "\n",
    "# pca.explained_varaince_ : 벡터의 길이\n",
    "# pca.components_ : 벡터\n",
    "for length, vector in zip(pca.explained_variance_, pca.components_) :\n",
    "    v = vector * 3 * np.sqrt(length)    # 시각화를 위해 크기x3\n",
    "    draw_vector(pca.mean_, pca.mean_ + v)\n",
    "plt.axis('equal')\n",
    "plt.show()"
   ]
  },
  {
   "cell_type": "markdown",
   "metadata": {},
   "source": [
    "## 5. 주성분을 이용한 축 변경\n",
    "\n",
    "### n_components=1"
   ]
  },
  {
   "cell_type": "code",
   "execution_count": null,
   "metadata": {},
   "outputs": [
    {
     "name": "stdout",
     "output_type": "stream",
     "text": [
      "[[0.47802511 0.87834617]]\n",
      "[1.82531406]\n"
     ]
    }
   ],
   "source": [
    "pca = PCA(n_components=1, random_state=13)\n",
    "pca.fit(x)\n",
    "\n",
    "print(pca.components_)\n",
    "print(pca.explained_variance_)"
   ]
  },
  {
   "cell_type": "code",
   "execution_count": 18,
   "metadata": {},
   "outputs": [
    {
     "data": {
      "text/plain": [
       "((200, 2), (200, 1))"
      ]
     },
     "execution_count": 18,
     "metadata": {},
     "output_type": "execute_result"
    }
   ],
   "source": [
    "x_pca = pca.transform(x)\n",
    "\n",
    "x.shape, x_pca.shape"
   ]
  },
  {
   "cell_type": "code",
   "execution_count": 22,
   "metadata": {},
   "outputs": [
    {
     "data": {
      "image/png": "[encoded data removed]",
      "text/plain": [
       "<Figure size 640x480 with 1 Axes>"
      ]
     },
     "metadata": {},
     "output_type": "display_data"
    }
   ],
   "source": [
    "x_new = pca.inverse_transform(x_pca)\n",
    "\n",
    "plt.scatter(x[:,0], x[:, 1], alpha=0.3)\n",
    "plt.scatter(x_new[:,0], x_new[:,1], alpha=0.9)\n",
    "plt.axis('equal')\n",
    "plt.show()"
   ]
  },
  {
   "cell_type": "code",
   "execution_count": null,
   "metadata": {},
   "outputs": [],
   "source": []
  }
 ],
 "metadata": {
  "kernelspec": {
   "display_name": "eda_study",
   "language": "python",
   "name": "python3"
  },
  "language_info": {
   "codemirror_mode": {
    "name": "ipython",
    "version": 3
   },
   "file_extension": ".py",
   "mimetype": "text/x-python",
   "name": "python",
   "nbconvert_exporter": "python",
   "pygments_lexer": "ipython3",
   "version": "3.8.19"
  }
 },
 "nbformat": 4,
 "nbformat_minor": 2
}
