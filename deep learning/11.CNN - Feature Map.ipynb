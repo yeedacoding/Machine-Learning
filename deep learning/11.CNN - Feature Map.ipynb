{
 "cells": [
  {
   "cell_type": "markdown",
   "metadata": {},
   "source": [
    "# Feature Map - MNIST Data\n",
    "- 모델 학습 전 convolution filter와 학습 후 convolution filter 확인\n",
    "- convolution filter를 거친 이미지 데이터 결과를 확인하여 각 conv filter가 중요시하는 feature를 확인"
   ]
  },
  {
   "cell_type": "markdown",
   "metadata": {},
   "source": [
    "## 데이터셋"
   ]
  },
  {
   "cell_type": "code",
   "execution_count": 1,
   "metadata": {},
   "outputs": [],
   "source": [
    "import tensorflow as tf\n",
    "\n",
    "mnist = tf.keras.datasets.mnist\n",
    "\n",
    "(x_train, y_train), (x_test, y_test) = mnist.load_data()\n",
    "x_train, x_test = x_train / 255, x_test / 255\n",
    "\n",
    "# 데이터 수 x width x height x channel\n",
    "x_train = x_train.reshape((60000, 28, 28, 1))\n",
    "x_test = x_test.reshape((10000, 28, 28, 1))"
   ]
  },
  {
   "cell_type": "markdown",
   "metadata": {},
   "source": [
    "## 신경망 구성"
   ]
  },
  {
   "cell_type": "code",
   "execution_count": 2,
   "metadata": {},
   "outputs": [],
   "source": [
    "from tensorflow.keras import layers, models\n",
    "\n",
    "model = models.Sequential([\n",
    "    layers.Conv2D(3, kernel_size=(3,3), strides=(1,1), padding='same', activation='relu', input_shape=(28,28,1)),\n",
    "    layers.MaxPool2D(pool_size=(2,2), strides=(2,2)),\n",
    "    layers.Dropout(0.25),\n",
    "    layers.Flatten(),\n",
    "    layers.Dense(1000, activation='relu'),\n",
    "    layers.Dense(10, activation='softmax')\n",
    "])"
   ]
  },
  {
   "cell_type": "code",
   "execution_count": 3,
   "metadata": {},
   "outputs": [
    {
     "name": "stdout",
     "output_type": "stream",
     "text": [
      "Model: \"sequential\"\n",
      "_________________________________________________________________\n",
      " Layer (type)                Output Shape              Param #   \n",
      "=================================================================\n",
      " conv2d (Conv2D)             (None, 28, 28, 3)         30        \n",
      "                                                                 \n",
      " max_pooling2d (MaxPooling2  (None, 14, 14, 3)         0         \n",
      " D)                                                              \n",
      "                                                                 \n",
      " dropout (Dropout)           (None, 14, 14, 3)         0         \n",
      "                                                                 \n",
      " flatten (Flatten)           (None, 588)               0         \n",
      "                                                                 \n",
      " dense (Dense)               (None, 1000)              589000    \n",
      "                                                                 \n",
      " dense_1 (Dense)             (None, 10)                10010     \n",
      "                                                                 \n",
      "=================================================================\n",
      "Total params: 599040 (2.29 MB)\n",
      "Trainable params: 599040 (2.29 MB)\n",
      "Non-trainable params: 0 (0.00 Byte)\n",
      "_________________________________________________________________\n"
     ]
    }
   ],
   "source": [
    "model.summary()"
   ]
  },
  {
   "cell_type": "markdown",
   "metadata": {},
   "source": [
    "## conv filter(weight) 확인"
   ]
  },
  {
   "cell_type": "code",
   "execution_count": 4,
   "metadata": {},
   "outputs": [
    {
     "data": {
      "text/plain": [
       "[<keras.src.layers.convolutional.conv2d.Conv2D at 0x313b4df70>,\n",
       " <keras.src.layers.pooling.max_pooling2d.MaxPooling2D at 0x313baf460>,\n",
       " <keras.src.layers.regularization.dropout.Dropout at 0x313bafa30>,\n",
       " <keras.src.layers.reshaping.flatten.Flatten at 0x313baff40>,\n",
       " <keras.src.layers.core.dense.Dense at 0x313cc4280>,\n",
       " <keras.src.layers.core.dense.Dense at 0x313cc43d0>]"
      ]
     },
     "execution_count": 4,
     "metadata": {},
     "output_type": "execute_result"
    }
   ],
   "source": [
    "model.layers"
   ]
  },
  {
   "cell_type": "code",
   "execution_count": 6,
   "metadata": {},
   "outputs": [
    {
     "data": {
      "text/plain": [
       "[<tf.Variable 'conv2d/kernel:0' shape=(3, 3, 1, 3) dtype=float32, numpy=\n",
       " array([[[[-0.2577548 ,  0.25708622,  0.1925866 ]],\n",
       " \n",
       "         [[-0.32654217, -0.00723833, -0.29820055]],\n",
       " \n",
       "         [[-0.19100761, -0.2026143 , -0.00711539]]],\n",
       " \n",
       " \n",
       "        [[[ 0.00381628,  0.2832368 , -0.03628337]],\n",
       " \n",
       "         [[-0.12195879, -0.05907637,  0.07590726]],\n",
       " \n",
       "         [[-0.2932546 ,  0.17139834, -0.15930429]]],\n",
       " \n",
       " \n",
       "        [[[ 0.20234364,  0.29268092,  0.33404827]],\n",
       " \n",
       "         [[-0.36463267,  0.29084718,  0.25963938]],\n",
       " \n",
       "         [[-0.14586022,  0.10867405,  0.30070007]]]], dtype=float32)>,\n",
       " <tf.Variable 'conv2d/bias:0' shape=(3,) dtype=float32, numpy=array([0., 0., 0.], dtype=float32)>]"
      ]
     },
     "execution_count": 6,
     "metadata": {},
     "output_type": "execute_result"
    }
   ],
   "source": [
    "conv = model.layers[0]  # conv2d layer\n",
    "\n",
    "conv.weights"
   ]
  },
  {
   "cell_type": "code",
   "execution_count": 10,
   "metadata": {},
   "outputs": [
    {
     "data": {
      "text/plain": [
       "(0.011189689, 0.22215502)"
      ]
     },
     "execution_count": 10,
     "metadata": {},
     "output_type": "execute_result"
    }
   ],
   "source": [
    "conv_weights = conv.weights[0].numpy()\n",
    "\n",
    "\n",
    "conv_weights.mean(), conv_weights.std()"
   ]
  },
  {
   "cell_type": "code",
   "execution_count": 12,
   "metadata": {},
   "outputs": [
    {
     "data": {
      "text/plain": [
       "array([[-0.2577548 ],\n",
       "       [ 0.25708622],\n",
       "       [ 0.1925866 ],\n",
       "       [-0.32654217],\n",
       "       [-0.00723833],\n",
       "       [-0.29820055],\n",
       "       [-0.19100761],\n",
       "       [-0.2026143 ],\n",
       "       [-0.00711539],\n",
       "       [ 0.00381628],\n",
       "       [ 0.2832368 ],\n",
       "       [-0.03628337],\n",
       "       [-0.12195879],\n",
       "       [-0.05907637],\n",
       "       [ 0.07590726],\n",
       "       [-0.2932546 ],\n",
       "       [ 0.17139834],\n",
       "       [-0.15930429],\n",
       "       [ 0.20234364],\n",
       "       [ 0.29268092],\n",
       "       [ 0.33404827],\n",
       "       [-0.36463267],\n",
       "       [ 0.29084718],\n",
       "       [ 0.25963938],\n",
       "       [-0.14586022],\n",
       "       [ 0.10867405],\n",
       "       [ 0.30070007]], dtype=float32)"
      ]
     },
     "execution_count": 12,
     "metadata": {},
     "output_type": "execute_result"
    }
   ],
   "source": [
    "conv_weights.reshape(-1, 1)"
   ]
  },
  {
   "cell_type": "code",
   "execution_count": 11,
   "metadata": {},
   "outputs": [
    {
     "data": {
      "image/png": "[encoded data removed]",
      "text/plain": [
       "<Figure size 640x480 with 1 Axes>"
      ]
     },
     "metadata": {},
     "output_type": "display_data"
    }
   ],
   "source": [
    "import matplotlib.pyplot as plt\n",
    "\n",
    "plt.hist(conv_weights.reshape(-1, 1))\n",
    "plt.xlabel('weights')\n",
    "plt.ylabel('count')\n",
    "plt.show()"
   ]
  },
  {
   "cell_type": "markdown",
   "metadata": {},
   "source": [
    "## 학습 전의 conv filter의 weight 확인"
   ]
  },
  {
   "cell_type": "code",
   "execution_count": 14,
   "metadata": {},
   "outputs": [
    {
     "data": {
      "text/plain": [
       "array([[[-0.2577548 ,  0.25708622,  0.1925866 ],\n",
       "        [-0.32654217, -0.00723833, -0.29820055],\n",
       "        [-0.19100761, -0.2026143 , -0.00711539]],\n",
       "\n",
       "       [[ 0.00381628,  0.2832368 , -0.03628337],\n",
       "        [-0.12195879, -0.05907637,  0.07590726],\n",
       "        [-0.2932546 ,  0.17139834, -0.15930429]],\n",
       "\n",
       "       [[ 0.20234364,  0.29268092,  0.33404827],\n",
       "        [-0.36463267,  0.29084718,  0.25963938],\n",
       "        [-0.14586022,  0.10867405,  0.30070007]]], dtype=float32)"
      ]
     },
     "execution_count": 14,
     "metadata": {},
     "output_type": "execute_result"
    }
   ],
   "source": [
    "conv_weights[:, :, 0]"
   ]
  },
  {
   "cell_type": "code",
   "execution_count": 13,
   "metadata": {},
   "outputs": [
    {
     "data": {
      "image/png": "[encoded data removed]",
      "text/plain": [
       "<Figure size 1500x500 with 3 Axes>"
      ]
     },
     "metadata": {},
     "output_type": "display_data"
    }
   ],
   "source": [
    "fig, ax = plt.subplots(1, 3, figsize=(15, 5))\n",
    "for i in range(3) :\n",
    "    ax[i].imshow(conv_weights[:, :, 0, i], vmin=-0.5, vmax=0.5)\n",
    "    ax[i].axis('off')\n",
    "\n",
    "plt.show()"
   ]
  },
  {
   "cell_type": "markdown",
   "metadata": {},
   "source": [
    "## 학습"
   ]
  },
  {
   "cell_type": "code",
   "execution_count": 16,
   "metadata": {},
   "outputs": [
    {
     "name": "stdout",
     "output_type": "stream",
     "text": [
      "Epoch 1/5\n",
      "1875/1875 [==============================] - 10s 5ms/step - loss: 0.2509 - accuracy: 0.9224 - val_loss: 0.1164 - val_accuracy: 0.9618\n",
      "Epoch 2/5\n",
      "1875/1875 [==============================] - 12s 6ms/step - loss: 0.1210 - accuracy: 0.9625 - val_loss: 0.0672 - val_accuracy: 0.9778\n",
      "Epoch 3/5\n",
      "1875/1875 [==============================] - 13s 7ms/step - loss: 0.0884 - accuracy: 0.9711 - val_loss: 0.0560 - val_accuracy: 0.9808\n",
      "Epoch 4/5\n",
      "1875/1875 [==============================] - 14s 8ms/step - loss: 0.0692 - accuracy: 0.9775 - val_loss: 0.0574 - val_accuracy: 0.9810\n",
      "Epoch 5/5\n",
      "1875/1875 [==============================] - 14s 7ms/step - loss: 0.0592 - accuracy: 0.9799 - val_loss: 0.0552 - val_accuracy: 0.9824\n",
      "CPU times: user 2min 30s, sys: 29.6 s, total: 2min 59s\n",
      "Wall time: 1min 2s\n"
     ]
    }
   ],
   "source": [
    "%%time\n",
    "\n",
    "model.compile(optimizer='adam', loss='sparse_categorical_crossentropy', metrics=['accuracy'])\n",
    "\n",
    "hist = model.fit(x_train, y_train, epochs=5, verbose=1, validation_data=(x_test, y_test))"
   ]
  },
  {
   "cell_type": "markdown",
   "metadata": {},
   "source": [
    "## 학습 후 conv filter의 변화 확인"
   ]
  },
  {
   "cell_type": "code",
   "execution_count": 17,
   "metadata": {},
   "outputs": [
    {
     "data": {
      "image/png": "[encoded data removed]",
      "text/plain": [
       "<Figure size 1500x500 with 3 Axes>"
      ]
     },
     "metadata": {},
     "output_type": "display_data"
    }
   ],
   "source": [
    "fig, ax = plt.subplots(1, 3, figsize=(15, 5))\n",
    "for i in range(3) :\n",
    "    ax[i].imshow(conv_weights[:, :, 0, i], vmin=-0.5, vmax=0.5)\n",
    "    ax[i].axis('off')\n",
    "plt.show()"
   ]
  },
  {
   "cell_type": "markdown",
   "metadata": {},
   "source": [
    "## conv filter를 통과한 이미지 데이터의 feature map 확인"
   ]
  },
  {
   "cell_type": "code",
   "execution_count": 20,
   "metadata": {},
   "outputs": [
    {
     "data": {
      "text/plain": [
       "<KerasTensor: shape=(None, 28, 28, 3) dtype=float32 (created by layer 'conv2d')>"
      ]
     },
     "execution_count": 20,
     "metadata": {},
     "output_type": "execute_result"
    }
   ],
   "source": [
    "model.layers[0].output"
   ]
  },
  {
   "cell_type": "code",
   "execution_count": 21,
   "metadata": {},
   "outputs": [
    {
     "name": "stdout",
     "output_type": "stream",
     "text": [
      "Model: \"model\"\n",
      "_________________________________________________________________\n",
      " Layer (type)                Output Shape              Param #   \n",
      "=================================================================\n",
      " conv2d_input (InputLayer)   [(None, 28, 28, 1)]       0         \n",
      "                                                                 \n",
      " conv2d (Conv2D)             (None, 28, 28, 3)         30        \n",
      "                                                                 \n",
      "=================================================================\n",
      "Total params: 30 (120.00 Byte)\n",
      "Trainable params: 30 (120.00 Byte)\n",
      "Non-trainable params: 0 (0.00 Byte)\n",
      "_________________________________________________________________\n"
     ]
    }
   ],
   "source": [
    "# 학습이 완료된 conv filter만 확인하기 위해 conv2d layer만 가져오기\n",
    "inputs = x_train[0].reshape(-1, 28, 28, 1)\n",
    "conv_layer_output = tf.keras.Model(model.input, model.layers[0].output)\n",
    "\n",
    "conv_layer_output.summary()"
   ]
  },
  {
   "cell_type": "code",
   "execution_count": 22,
   "metadata": {},
   "outputs": [
    {
     "name": "stdout",
     "output_type": "stream",
     "text": [
      "1/1 [==============================] - 0s 51ms/step\n"
     ]
    },
    {
     "data": {
      "text/plain": [
       "(1, 28, 28, 3)"
      ]
     },
     "execution_count": 22,
     "metadata": {},
     "output_type": "execute_result"
    }
   ],
   "source": [
    "feature_maps = conv_layer_output.predict(inputs)\n",
    "\n",
    "feature_maps.shape"
   ]
  },
  {
   "cell_type": "code",
   "execution_count": 25,
   "metadata": {},
   "outputs": [
    {
     "data": {
      "image/png": "[encoded data removed]",
      "text/plain": [
       "<Figure size 1500x500 with 3 Axes>"
      ]
     },
     "metadata": {},
     "output_type": "display_data"
    }
   ],
   "source": [
    "fig, ax = plt.subplots(1, 3, figsize=(15, 5))\n",
    "for i in range(3) :\n",
    "    ax[i].imshow(feature_maps[0, :, :, i])\n",
    "    ax[i].axis('off')\n",
    "\n",
    "plt.show()"
   ]
  },
  {
   "cell_type": "code",
   "execution_count": 38,
   "metadata": {},
   "outputs": [],
   "source": [
    "# feature map 추출 함수 정의\n",
    "def draw_feature_maps(n) :\n",
    "    inputs = x_train[n].reshape(-1, 28, 28, 1)\n",
    "    feature_maps = conv_layer_output.predict(inputs)\n",
    "\n",
    "    fig, ax = plt.subplots(1, 4, figsize=(15, 5))\n",
    "\n",
    "    ax[0].imshow(inputs[0, :, :, 0], cmap='gray')\n",
    "    for i in range(1, 4) :\n",
    "        ax[i].imshow(feature_maps[0, :, :, i-1])\n",
    "        ax[i].axis('off')\n",
    "\n",
    "    plt.show()"
   ]
  },
  {
   "cell_type": "code",
   "execution_count": 39,
   "metadata": {},
   "outputs": [
    {
     "name": "stdout",
     "output_type": "stream",
     "text": [
      "1/1 [==============================] - 0s 17ms/step\n"
     ]
    },
    {
     "data": {
      "image/png": "[encoded data removed]",
      "text/plain": [
       "<Figure size 1500x500 with 4 Axes>"
      ]
     },
     "metadata": {},
     "output_type": "display_data"
    }
   ],
   "source": [
    "draw_feature_maps(50)"
   ]
  },
  {
   "cell_type": "code",
   "execution_count": 42,
   "metadata": {},
   "outputs": [
    {
     "name": "stdout",
     "output_type": "stream",
     "text": [
      "1/1 [==============================] - 0s 14ms/step\n"
     ]
    },
    {
     "data": {
      "image/png": "[encoded data removed]",
      "text/plain": [
       "<Figure size 1500x500 with 4 Axes>"
      ]
     },
     "metadata": {},
     "output_type": "display_data"
    }
   ],
   "source": [
    "draw_feature_maps(300)"
   ]
  },
  {
   "cell_type": "markdown",
   "metadata": {},
   "source": [
    "## 신경망의 Conv2D 특성 수 늘리기"
   ]
  },
  {
   "cell_type": "code",
   "execution_count": 43,
   "metadata": {},
   "outputs": [],
   "source": [
    "model = models.Sequential([\n",
    "    layers.Conv2D(8, kernel_size=(3,3), strides=(1,1), padding='same', activation='relu', input_shape=(28,28,1)),\n",
    "    layers.MaxPool2D(pool_size=(2,2), strides=(2,2)),\n",
    "    layers.Dropout(0.25),\n",
    "    layers.Flatten(),\n",
    "    layers.Dense(1000, activation='relu'),\n",
    "    layers.Dense(10, activation='softmax')\n",
    "])"
   ]
  },
  {
   "cell_type": "code",
   "execution_count": 44,
   "metadata": {},
   "outputs": [
    {
     "name": "stdout",
     "output_type": "stream",
     "text": [
      "Epoch 1/5\n",
      "1875/1875 [==============================] - 22s 12ms/step - loss: 0.1692 - accuracy: 0.9489 - val_loss: 0.0625 - val_accuracy: 0.9782\n",
      "Epoch 2/5\n",
      "1875/1875 [==============================] - 22s 12ms/step - loss: 0.0703 - accuracy: 0.9777 - val_loss: 0.0444 - val_accuracy: 0.9861\n",
      "Epoch 3/5\n",
      "1875/1875 [==============================] - 23s 12ms/step - loss: 0.0467 - accuracy: 0.9850 - val_loss: 0.0437 - val_accuracy: 0.9849\n",
      "Epoch 4/5\n",
      "1875/1875 [==============================] - 26s 14ms/step - loss: 0.0363 - accuracy: 0.9883 - val_loss: 0.0418 - val_accuracy: 0.9864\n",
      "Epoch 5/5\n",
      "1875/1875 [==============================] - 25s 13ms/step - loss: 0.0288 - accuracy: 0.9902 - val_loss: 0.0431 - val_accuracy: 0.9869\n",
      "CPU times: user 4min 54s, sys: 52.2 s, total: 5min 46s\n",
      "Wall time: 1min 58s\n"
     ]
    }
   ],
   "source": [
    "%%time\n",
    "\n",
    "model.compile(optimizer='adam', loss='sparse_categorical_crossentropy', metrics=['accuracy'])\n",
    "\n",
    "hist = model.fit(x_train, y_train, epochs=5, verbose=1, validation_data=(x_test, y_test))"
   ]
  },
  {
   "cell_type": "code",
   "execution_count": 45,
   "metadata": {},
   "outputs": [],
   "source": [
    "conv_layer_output = tf.keras.Model(model.input, model.layers[0].output)\n",
    "\n",
    "def draw_feature_maps(n) :\n",
    "    inputs = x_train[n].reshape(-1, 28, 28, 1)\n",
    "    feature_maps = conv_layer_output.predict(inputs)\n",
    "\n",
    "    fig, ax = plt.subplots(1, 9, figsize=(15, 5))\n",
    "\n",
    "    ax[0].imshow(inputs[0, :, :, 0], cmap='gray')\n",
    "    for i in range(1, 9) :\n",
    "        ax[i].imshow(feature_maps[0, :, :, i-1])\n",
    "        ax[i].axis('off')\n",
    "\n",
    "    plt.show()"
   ]
  },
  {
   "cell_type": "code",
   "execution_count": 46,
   "metadata": {},
   "outputs": [
    {
     "name": "stdout",
     "output_type": "stream",
     "text": [
      "1/1 [==============================] - 0s 27ms/step\n"
     ]
    },
    {
     "data": {
      "image/png": "[encoded data removed]",
      "text/plain": [
       "<Figure size 1500x500 with 9 Axes>"
      ]
     },
     "metadata": {},
     "output_type": "display_data"
    }
   ],
   "source": [
    "draw_feature_maps(1)"
   ]
  },
  {
   "cell_type": "code",
   "execution_count": 47,
   "metadata": {},
   "outputs": [
    {
     "name": "stdout",
     "output_type": "stream",
     "text": [
      "1/1 [==============================] - 0s 17ms/step\n"
     ]
    },
    {
     "data": {
      "image/png": "[encoded data removed]",
      "text/plain": [
       "<Figure size 1500x500 with 9 Axes>"
      ]
     },
     "metadata": {},
     "output_type": "display_data"
    }
   ],
   "source": [
    "draw_feature_maps(100)"
   ]
  },
  {
   "cell_type": "code",
   "execution_count": null,
   "metadata": {},
   "outputs": [],
   "source": []
  }
 ],
 "metadata": {
  "kernelspec": {
   "display_name": "deeplearning",
   "language": "python",
   "name": "python3"
  },
  "language_info": {
   "codemirror_mode": {
    "name": "ipython",
    "version": 3
   },
   "file_extension": ".py",
   "mimetype": "text/x-python",
   "name": "python",
   "nbconvert_exporter": "python",
   "pygments_lexer": "ipython3",
   "version": "3.8.15"
  }
 },
 "nbformat": 4,
 "nbformat_minor": 2
}
