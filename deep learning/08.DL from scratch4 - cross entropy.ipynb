{
 "cells": [
  {
   "cell_type": "markdown",
   "metadata": {},
   "source": [
    "# cross-entropy 함수를 사용하는 이진 분류 문제 backpropagation"
   ]
  },
  {
   "cell_type": "markdown",
   "metadata": {},
   "source": [
    "## XOR 데이터"
   ]
  },
  {
   "cell_type": "code",
   "execution_count": 15,
   "metadata": {},
   "outputs": [],
   "source": [
    "import numpy as np\n",
    "\n",
    "X = np.array([\n",
    "    [0, 0, 1],\n",
    "    [0, 1, 1],\n",
    "    [1, 0, 1],\n",
    "    [1, 1, 1]\n",
    "])\n",
    "\n",
    "D = np.array([\n",
    "    [0], [1], [1], [0]\n",
    "])\n",
    "\n",
    "# 가중치 랜덤 설정\n",
    "W1 = 2 * np.random.random((4, 3)) -1\n",
    "W2 = 2 * np.random.random((1, 4)) -1"
   ]
  },
  {
   "cell_type": "markdown",
   "metadata": {},
   "source": [
    "## 시그모이드 함수"
   ]
  },
  {
   "cell_type": "code",
   "execution_count": 16,
   "metadata": {},
   "outputs": [],
   "source": [
    "def sigmoid(x) :\n",
    "    return 1.0 / (1.0 + np.exp(-x))"
   ]
  },
  {
   "cell_type": "markdown",
   "metadata": {},
   "source": [
    "## 모델의 순방향 연산 함수 정의"
   ]
  },
  {
   "cell_type": "code",
   "execution_count": 17,
   "metadata": {},
   "outputs": [],
   "source": [
    "def calc_output(W1, W2, x) :\n",
    "    v1 = np.matmul(W1, x)\n",
    "    y1 = sigmoid(v1)        # 은닉층에서의 sigmoid 함수 결과값 : (4,1)\n",
    "    v = np.matmul(W2, y1)\n",
    "    y = sigmoid(v)          # 출력층에서의 sigmoid 함수 결과값 : (1,1)\n",
    "\n",
    "    return y, y1"
   ]
  },
  {
   "cell_type": "markdown",
   "metadata": {},
   "source": [
    "## 델타 계산 함수\n",
    "- 모델의 출력값과 실제값 사이의 오차를 계산하여 delta 얻기\n",
    "- cross-entropy 함수 사용"
   ]
  },
  {
   "cell_type": "code",
   "execution_count": 18,
   "metadata": {},
   "outputs": [],
   "source": [
    "def calcDelta_ce(d, y) :\n",
    "    e = d - y\n",
    "    delta = e\n",
    "\n",
    "    return delta"
   ]
  },
  {
   "cell_type": "markdown",
   "metadata": {},
   "source": [
    "## 역전파 시 은닉층에서 delta 계산하는 함수 정의\n",
    "- 은닉층에서의 미분이므로 시그모이드 함수에 대한 미분 활용"
   ]
  },
  {
   "cell_type": "code",
   "execution_count": 19,
   "metadata": {},
   "outputs": [],
   "source": [
    "def calcDelta1_ce(W2, delta, y1) :\n",
    "    e1 = np.matmul(W2.T, delta)\n",
    "    delta1 = y1 * (1 - y1) * e1\n",
    "\n",
    "    return delta1"
   ]
  },
  {
   "cell_type": "markdown",
   "metadata": {},
   "source": [
    "## 역전파 수행"
   ]
  },
  {
   "cell_type": "code",
   "execution_count": 20,
   "metadata": {},
   "outputs": [],
   "source": [
    "def BackpropCE(W1, W2, X, D, alpha) :\n",
    "    for k in range(4) :     # 은닉층의 뉴런이 4개이므로\n",
    "        x = X[k, :].T\n",
    "        d = D[k]\n",
    "\n",
    "        y, y1 = calc_output(W1, W2, x)  # y1 : 은닉층 결과값 / y : 출력층 결과값\n",
    "        delta = calcDelta_ce(d, y)      # 출력층과 실제값 간의 오차를 통해 계산된 delta 값\n",
    "        delta1 = calcDelta1_ce(W2, delta, y1)   # delta와 출력층과 은닉층 사이의 가중치의 연산을 통해 계산된 delta값\n",
    "\n",
    "        dW1 = (alpha*delta1).reshape(4, 1) * x.reshape(1, 3)\n",
    "        W1 = W1 + dW1   # W1(입력층과 은닉층 사이의 가중치) 업데이트\n",
    "\n",
    "        dW2 = alpha * delta * y1\n",
    "        W2 = W2 + dW2   # W2(은닉층과 출력층 사이의 가중치) 업데이트\n",
    "\n",
    "    return W1, W2"
   ]
  },
  {
   "cell_type": "markdown",
   "metadata": {},
   "source": [
    "## 학습"
   ]
  },
  {
   "cell_type": "code",
   "execution_count": 21,
   "metadata": {},
   "outputs": [],
   "source": [
    "alpha = 0.9\n",
    "for epoch in range(10000) :\n",
    "    W1, W2 = BackpropCE(W1, W2, X, D, alpha)"
   ]
  },
  {
   "cell_type": "markdown",
   "metadata": {},
   "source": [
    "## 학습 완료된 가중치로 순방향연산 다시 수행"
   ]
  },
  {
   "cell_type": "code",
   "execution_count": 22,
   "metadata": {},
   "outputs": [
    {
     "name": "stdout",
     "output_type": "stream",
     "text": [
      "[7.92973875e-05]\n",
      "[0.9997761]\n",
      "[0.99985421]\n",
      "[0.00033198]\n"
     ]
    }
   ],
   "source": [
    "N = 4\n",
    "for k in range(N) :\n",
    "    x = X[k, :].T\n",
    "    v1 = np.matmul(W1, x)\n",
    "    y1 = sigmoid(v1)\n",
    "    v = np.matmul(W2, y1)\n",
    "    y = sigmoid(v)\n",
    "\n",
    "    print(y)"
   ]
  },
  {
   "cell_type": "code",
   "execution_count": null,
   "metadata": {},
   "outputs": [],
   "source": []
  }
 ],
 "metadata": {
  "kernelspec": {
   "display_name": "deeplearning",
   "language": "python",
   "name": "python3"
  },
  "language_info": {
   "codemirror_mode": {
    "name": "ipython",
    "version": 3
   },
   "file_extension": ".py",
   "mimetype": "text/x-python",
   "name": "python",
   "nbconvert_exporter": "python",
   "pygments_lexer": "ipython3",
   "version": "3.8.15"
  }
 },
 "nbformat": 4,
 "nbformat_minor": 2
}
