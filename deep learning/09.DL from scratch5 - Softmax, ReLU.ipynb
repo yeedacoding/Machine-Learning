{
 "cells": [
  {
   "cell_type": "markdown",
   "metadata": {},
   "source": [
    "# Softmax, ReLU를 활용한 숫자 맞추기"
   ]
  },
  {
   "cell_type": "markdown",
   "metadata": {},
   "source": [
    "## Softmax 함수 정의"
   ]
  },
  {
   "cell_type": "code",
   "execution_count": 61,
   "metadata": {},
   "outputs": [],
   "source": [
    "import numpy as np\n",
    "import matplotlib.pyplot as plt\n",
    "from tqdm import tqdm\n",
    "\n",
    "def Softmax(x) :\n",
    "    x = np.subtract(x, np.max(x))\n",
    "    ex = np.exp(x)\n",
    "\n",
    "    return ex / np.sum(ex)"
   ]
  },
  {
   "cell_type": "markdown",
   "metadata": {},
   "source": [
    "## 입력 데이터"
   ]
  },
  {
   "cell_type": "code",
   "execution_count": 62,
   "metadata": {},
   "outputs": [],
   "source": [
    "X = np.zeros((5, 5, 5))\n",
    "\n",
    "X[:, :, 0] = [[0,1,1,0,0], [0,0,1,0,0], [0,0,1,0,0], [0,0,1,0,0], [0,1,1,1,0]]\n",
    "X[:, :, 1] = [[1,1,1,1,0], [0,0,0,0,1], [0,1,1,1,0], [1,0,0,0,0], [1,1,1,1,1]]\n",
    "X[:, :, 2] = [[1,1,1,1,0], [0,0,0,0,1], [0,1,1,1,0], [0,0,0,0,1], [1,1,1,1,0]]\n",
    "X[:, :, 3] = [[0,0,0,1,0], [0,0,1,1,0], [0,1,0,1,0], [1,1,1,1,1], [0,0,0,1,0]]\n",
    "X[:, :, 4] = [[1,1,1,1,1], [1,0,0,0,0], [1,1,1,1,0], [0,0,0,0,1], [1,1,1,1,0]]\n",
    "\n",
    "# 정답지\n",
    "D = np.array([[[1,0,0,0,0]], [[0,1,0,0,0]], [[0,0,1,0,0]], [[0,0,0,1,0]], [[0,0,0,0,1]]])"
   ]
  },
  {
   "cell_type": "code",
   "execution_count": 63,
   "metadata": {},
   "outputs": [
    {
     "data": {
      "image/png": "[encoded data removed]",
      "text/plain": [
       "<Figure size 1200x400 with 5 Axes>"
      ]
     },
     "metadata": {},
     "output_type": "display_data"
    }
   ],
   "source": [
    "plt.figure(figsize=(12, 4))\n",
    "for n in range(5):\n",
    "    plt.subplot(1, 5, n+1)\n",
    "    plt.imshow(X[:, :, n])\n",
    "plt.show()"
   ]
  },
  {
   "cell_type": "markdown",
   "metadata": {},
   "source": [
    "## ReLU 함수 정의"
   ]
  },
  {
   "cell_type": "code",
   "execution_count": 64,
   "metadata": {},
   "outputs": [],
   "source": [
    "def ReLU(x) :\n",
    "    return np.maximum(0, x)"
   ]
  },
  {
   "cell_type": "markdown",
   "metadata": {},
   "source": [
    "## 순방향연산 함수 정의"
   ]
  },
  {
   "cell_type": "code",
   "execution_count": 65,
   "metadata": {},
   "outputs": [],
   "source": [
    "def calcOutput_ReLU(W1, W2, W3, W4, x) :\n",
    "    # W1 shape=(20, 25) / x shape = (25, 1)\n",
    "    v1 = np.matmul(W1, x)   # v1 shape = (20, 1)\n",
    "    y1 = ReLU(v1)\n",
    "\n",
    "    # W2 shape=(20, 20)\n",
    "    v2 = np.matmul(W2, y1)  # v2 shape = (20, 1)\n",
    "    y2 = ReLU(v2)\n",
    "\n",
    "    # W3 shape=(20, 20)\n",
    "    v3 = np.matmul(W3, y2)  # v3 shape = (20, 1)\n",
    "    y3 = ReLU(v3)\n",
    "    \n",
    "    # W4 shape=(5, 20)\n",
    "    v = np.matmul(W4, y3)   # v shape = (5, 1)\n",
    "    y = Softmax(v)\n",
    "\n",
    "    return y, v1, v2, v3, y1, y2, y3"
   ]
  },
  {
   "cell_type": "markdown",
   "metadata": {},
   "source": [
    "## 역전파 함수 정의"
   ]
  },
  {
   "cell_type": "code",
   "execution_count": 66,
   "metadata": {},
   "outputs": [],
   "source": [
    "def backpropagation_ReLU(d, y, W2, W3, W4, v1, v2, v3) :\n",
    "    # 1. 가중치 W4에 대한 전체 오차 E 변화량\n",
    "    e = d - y\n",
    "    delta = e\n",
    "\n",
    "    # 2. 가중치 W3에 대한 전체 오차 E 변화량\n",
    "    e3 = np.matmul(W4.T, delta)\n",
    "    delta3 = (v3 > 0) * e3\n",
    "\n",
    "    # 3. 가중치 W2에 대한 전체 오차 E 변화량\n",
    "    e2 = np.matmul(W3.T, delta3)\n",
    "    delta2 = (v2 > 0) * e2\n",
    "\n",
    "    # 4. 가중치 W1에 대한 전체 오차 E 변화량\n",
    "    e1 = np.matmul(W2.T, delta2)\n",
    "    delta1 = (v1 > 0) * e1\n",
    "\n",
    "    return delta, delta1, delta2, delta3"
   ]
  },
  {
   "cell_type": "markdown",
   "metadata": {},
   "source": [
    "## 가중치 연산 함수 정의"
   ]
  },
  {
   "cell_type": "code",
   "execution_count": 67,
   "metadata": {},
   "outputs": [],
   "source": [
    "def calcWs(alpha, delta, delta1, delta2, delta3, y1, y2, y3, x, W1, W2, W3, W4) :\n",
    "    # 1. 가중치 W4 업데이트\n",
    "    dW4 = alpha * delta * y3.T\n",
    "    W4 = W4 + dW4\n",
    "\n",
    "    # 2. 가중치 W3 업데이트\n",
    "    dW3 = alpha * delta3 * y2.T\n",
    "    W3 = W3 + dW3\n",
    "\n",
    "    # 3. 가중치 W2 업데이트\n",
    "    dW2 = alpha * delta2 * y1.T\n",
    "    W2 = W2 + dW2\n",
    "\n",
    "    # 4. 가중치 W1 업데이트\n",
    "    dW1 = alpha * delta1 * x.T\n",
    "    W1 = W1 + dW1\n",
    "\n",
    "    return W1, W2, W3, W4"
   ]
  },
  {
   "cell_type": "markdown",
   "metadata": {},
   "source": [
    "## 가중치 업데이트"
   ]
  },
  {
   "cell_type": "code",
   "execution_count": 68,
   "metadata": {},
   "outputs": [],
   "source": [
    "def DeepReLU(W1, W2, W3, W4, X, D, alpha) :\n",
    "    for k in range(5) :\n",
    "        x = np.reshape(X[:, :, k], (25, 1))\n",
    "        d = D[k, :].T\n",
    "\n",
    "        y, v1, v2, v3, y1, y2, y3 = calcOutput_ReLU(W1, W3, W3, W4, x)\n",
    "        delta, delta1, delta2, delta3 = backpropagation_ReLU(d, y, W2, W3, W4, v1, v2, v3)\n",
    "        W1, W2, W3, W4 = calcWs(alpha, delta, delta1, delta2, delta3, y1, y2, y3, x, W1, W2, W3, W4)\n",
    "\n",
    "    return W1, W2, W3, W4"
   ]
  },
  {
   "cell_type": "markdown",
   "metadata": {},
   "source": [
    "## 학습"
   ]
  },
  {
   "cell_type": "code",
   "execution_count": 69,
   "metadata": {},
   "outputs": [
    {
     "name": "stderr",
     "output_type": "stream",
     "text": [
      "100%|██████████| 10000/10000 [00:02<00:00, 4015.28it/s]\n"
     ]
    }
   ],
   "source": [
    "# 가중치 랜덤 초기화\n",
    "W1 = 2 * np.random.random((20, 25)) - 1\n",
    "W2 = 2 * np.random.random((20, 20)) - 1\n",
    "W3 = 2 * np.random.random((20, 20)) - 1\n",
    "W4 = 2 * np.random.random((5, 20)) - 1\n",
    "\n",
    "alpha = 0.01\n",
    "for epoch in tqdm(range(10000)) :\n",
    "    W1, W2, W3, W4 = DeepReLU(W1, W2, W3, W4, X, D, alpha)"
   ]
  },
  {
   "cell_type": "markdown",
   "metadata": {},
   "source": [
    "## 학습 완료된 가중치로 검증"
   ]
  },
  {
   "cell_type": "code",
   "execution_count": 70,
   "metadata": {},
   "outputs": [],
   "source": [
    "# 순전파연산 함수 재정의\n",
    "def verify_algorithm(x, W1, W2, W3, W4) :\n",
    "    v1 = np.matmul(W1, x)\n",
    "    y1 = ReLU(v1)\n",
    "    v2 = np.matmul(W2, y1)\n",
    "    y2 = ReLU(v2)\n",
    "    v3 = np.matmul(W3, y2)\n",
    "    y3 = ReLU(v3)\n",
    "    v = np.matmul(W4, y3)\n",
    "    y = Softmax(v)\n",
    "\n",
    "    return y"
   ]
  },
  {
   "cell_type": "code",
   "execution_count": 71,
   "metadata": {},
   "outputs": [
    {
     "name": "stdout",
     "output_type": "stream",
     "text": [
      "Y = 1 :\n",
      "[1]\n",
      "[[8.46346224e-01]\n",
      " [9.25254598e-05]\n",
      " [1.53561251e-01]\n",
      " [1.69331994e-17]\n",
      " [7.08270417e-15]]\n",
      "---------------------\n",
      "Y = 2 :\n",
      "[2]\n",
      "[[1.29131349e-04]\n",
      " [9.99013257e-01]\n",
      " [8.57611808e-04]\n",
      " [6.31588306e-42]\n",
      " [6.41459612e-25]]\n",
      "---------------------\n",
      "Y = 3 :\n",
      "[1]\n",
      "[[6.21279139e-01]\n",
      " [2.16148253e-01]\n",
      " [1.62572608e-01]\n",
      " [4.58715586e-46]\n",
      " [2.60740094e-27]]\n",
      "---------------------\n",
      "Y = 4 :\n",
      "[2]\n",
      "[[2.17797879e-02]\n",
      " [9.78220140e-01]\n",
      " [4.01509030e-08]\n",
      " [5.16440897e-26]\n",
      " [3.21753099e-08]]\n",
      "---------------------\n",
      "Y = 5 :\n",
      "[1]\n",
      "[[7.35538820e-01]\n",
      " [2.64142621e-01]\n",
      " [3.18558728e-04]\n",
      " [1.89207093e-41]\n",
      " [6.48041410e-23]]\n",
      "---------------------\n"
     ]
    }
   ],
   "source": [
    "# 검증\n",
    "N = 5\n",
    "for k in range(N) :\n",
    "    x = np.reshape(X[:, :, k], (25, 1))\n",
    "    y = verify_algorithm(x, W1, W2, W3, W4)\n",
    "\n",
    "    print(\"Y = {} :\".format(k+1))\n",
    "    # 라벨 데이터로 원핫 인코딩 값을 주었으므로 np.argmax를 통해 가장 높은 확률값을 가지는 인덱스 추출\n",
    "    # 인덱스 값이므로 +1해서 어떤 클래스(1, 2, 3, 4, 5)에 해당하는지 출력\n",
    "    print(np.argmax(y, axis=0) + 1)\n",
    "    print(y)\n",
    "    print('---------------------')"
   ]
  },
  {
   "cell_type": "markdown",
   "metadata": {},
   "source": [
    "## 테스트 데이터로 검증"
   ]
  },
  {
   "cell_type": "code",
   "execution_count": 72,
   "metadata": {},
   "outputs": [],
   "source": [
    "X_test = np.zeros((5, 5, 5))\n",
    "\n",
    "X_test[:, :, 0] = [[0,0,0,0,0], [0,1,0,0,0], [1,0,1,0,0], [0,0,1,0,0], [0,1,1,1,0]]\n",
    "X_test[:, :, 1] = [[1,1,1,1,0], [0,0,0,0,0], [0,1,1,1,0], [0,0,0,0,1], [1,1,1,1,0]]\n",
    "X_test[:, :, 2] = [[0,0,0,1,0], [0,0,1,1,0], [0,1,0,0,0], [1,1,1,0,1], [0,0,0,1,0]]\n",
    "X_test[:, :, 3] = [[1,1,1,1,0], [0,0,0,0,1], [0,1,1,1,0], [1,0,0,0,0], [1,1,1,1,0]]\n",
    "X_test[:, :, 4] = [[0,1,1,1,1], [1,1,0,0,0], [1,1,1,1,0], [0,0,0,1,1], [1,1,1,1,0]]"
   ]
  },
  {
   "cell_type": "code",
   "execution_count": 73,
   "metadata": {},
   "outputs": [
    {
     "data": {
      "image/png": "[encoded data removed]",
      "text/plain": [
       "<Figure size 1200x400 with 10 Axes>"
      ]
     },
     "metadata": {},
     "output_type": "display_data"
    }
   ],
   "source": [
    "# 예측\n",
    "learning_result = [0,0,0,0,0]\n",
    "\n",
    "for k in range(N):\n",
    "    x = np.reshape(X_test[:, :, k], (25, 1))\n",
    "    y = verify_algorithm(x, W1, W2, W3, W4)\n",
    "\n",
    "    learning_result[k] = np.argmax(y, axis = 0) + 1\n",
    "    \n",
    "plt.figure(figsize=(12, 4))\n",
    "for k in range(5):\n",
    "    plt.subplot(2, 5, k+1)\n",
    "    plt.imshow(X_test[:, :, k]) # 원본 데이터\n",
    "\n",
    "    plt.subplot(2, 5, k+6)\n",
    "    plt.imshow(X_test[:, :, learning_result[k][0] - 1]) # 예측 데이터\n",
    "plt.show()"
   ]
  },
  {
   "cell_type": "markdown",
   "metadata": {},
   "source": [
    "## Dropout 함수 정의"
   ]
  },
  {
   "cell_type": "code",
   "execution_count": 74,
   "metadata": {},
   "outputs": [],
   "source": [
    "# dropout 함수\n",
    "def Dropout(y, ratio):\n",
    "    ym = np.zeros_like(y) \n",
    "\n",
    "    num = round(y.size * (1 - ratio)) \n",
    "    # y.size까지의 수 중 num 개수만큼 랜덤으로 추출\n",
    "    idx = np.random.choice(y.size, num, replace = True)\n",
    "    ym[idx] = 1.0 / (1.0 - ratio)\n",
    "\n",
    "    return ym\n"
   ]
  },
  {
   "cell_type": "code",
   "execution_count": 77,
   "metadata": {},
   "outputs": [],
   "source": [
    "def sigmoid(x) :\n",
    "    return 1.0 / (1.0 + np.exp(-x))"
   ]
  },
  {
   "cell_type": "markdown",
   "metadata": {},
   "source": [
    "## Dropout을 적용시킨 순방향연산 함수 정의"
   ]
  },
  {
   "cell_type": "code",
   "execution_count": 78,
   "metadata": {},
   "outputs": [],
   "source": [
    "def calc_output_dropout(W1, W2, W3, W4, x):  \n",
    "    v1 = np.matmul(W1, x)\n",
    "    y1 = sigmoid(v1)\n",
    "    y1 = y1 * Dropout(y1, 0.2)\n",
    "\n",
    "    v2 = np.matmul(W2, y1)\n",
    "    y2 = sigmoid(v2)\n",
    "    y1 = y2 * Dropout(y2, 0.2)\n",
    "\n",
    "    v3 = np.matmul(W3, y2)\n",
    "    y3 = sigmoid(v3)\n",
    "    y3 = y3 * Dropout(y3, 0.2)\n",
    "\n",
    "    v = np.matmul(W4, y3)\n",
    "    y = Softmax(v)\n",
    "\n",
    "    return y, y1, y2, y3, v1, v2, v3"
   ]
  },
  {
   "cell_type": "markdown",
   "metadata": {},
   "source": [
    "## 역전파 및 가중치 업데이트"
   ]
  },
  {
   "cell_type": "code",
   "execution_count": 80,
   "metadata": {},
   "outputs": [],
   "source": [
    "# 역전파를 이용한 델타 계산\n",
    "def backprop_dropout(d, y, y1, y2, y3, W2, W3, W4, v1, v2, v3):\n",
    "    e = d - y\n",
    "    delta = e\n",
    "\n",
    "    e3 = np.matmul(W4.T, delta)\n",
    "    delta3 = y3*(1 - y3)*e3\n",
    "\n",
    "    e2 = np.matmul(W3.T, delta3)\n",
    "    delta2 = y2*(1 - y2)*e2\n",
    "\n",
    "    e1 = np.matmul(W2.T, delta2)\n",
    "    delta1 = y1*(1 - y1)*e1\n",
    "\n",
    "    return delta, delta1, delta2, delta3\n",
    "\n",
    "\n",
    "# 가중치 업데이트\n",
    "def Deepdropout(W1, W2, W3, W4, X, D):\n",
    "    for k in range(5):\n",
    "        x = np.reshape(X[:, :, k], (25, 1))\n",
    "        d =D[k, :].T\n",
    "        \n",
    "        y, y1, y2, y3, v1, v2, v3 = calc_output_dropout(W1, W2, W3, W4, x)\n",
    "        delta, delta1, delta2, delta3 = backprop_dropout(d, y, y1, y2, y3, W2, W3, W4, v1, v2, v3)\n",
    "        W1, W2, W3, W4 = calcWs(alpha, delta, delta1, delta2, delta3, y1, y2, y3, x, W1, W2, W3, W4)\n",
    "\n",
    "        return W1, W2, W3, W4"
   ]
  },
  {
   "cell_type": "markdown",
   "metadata": {},
   "source": [
    "## 학습 및 예측"
   ]
  },
  {
   "cell_type": "code",
   "execution_count": 82,
   "metadata": {},
   "outputs": [
    {
     "name": "stderr",
     "output_type": "stream",
     "text": [
      "\n",
      "\u001b[A\n",
      "\u001b[A\n",
      "\u001b[A\n",
      "\u001b[A\n",
      "\u001b[A\n",
      "\u001b[A\n",
      "\u001b[A\n",
      "\u001b[A\n",
      "\u001b[A\n",
      "\u001b[A\n",
      "\u001b[A\n",
      "\u001b[A\n",
      "100%|██████████| 10000/10000 [00:01<00:00, 8191.36it/s]\n",
      "Exception ignored in: <function tqdm.__del__ at 0x1182513a0>\n",
      "Traceback (most recent call last):\n",
      "  File \"/Users/taeheon/miniforge3/envs/deeplearning/lib/python3.8/site-packages/tqdm/std.py\", line 1148, in __del__\n",
      "    self.close()\n",
      "  File \"/Users/taeheon/miniforge3/envs/deeplearning/lib/python3.8/site-packages/tqdm/notebook.py\", line 279, in close\n",
      "    self.disp(bar_style='danger', check_delay=False)\n",
      "AttributeError: 'tqdm_notebook' object has no attribute 'disp'\n"
     ]
    },
    {
     "data": {
      "image/png": "[encoded data removed]",
      "text/plain": [
       "<Figure size 1200x400 with 10 Axes>"
      ]
     },
     "metadata": {},
     "output_type": "display_data"
    }
   ],
   "source": [
    "# 학습\n",
    "W1 = 2*np.random.random((20, 25)) -1\n",
    "W2 = 2*np.random.random((20, 20)) - 1\n",
    "W3 = 2*np.random.random((20, 20)) - 1\n",
    "W4 = 2*np.random.random((5, 20)) - 1\n",
    "\n",
    "for epoch in tqdm(range(10000)):\n",
    "    W1, W2, W3, W4 = Deepdropout(W1, W2, W3, W4, X, D)\n",
    "    \n",
    "    \n",
    "# 테스트 데이터 다시 예측\n",
    "learning_result = [0,0,0,0,0]\n",
    "\n",
    "for k in range(N):\n",
    "    x = np.reshape(X_test[:, :, k], (25, 1))\n",
    "    y = verify_algorithm(x, W1, W2, W3, W4)\n",
    "\n",
    "    learning_result[k] = np.argmax(y, axis = 0) + 1\n",
    "    \n",
    "\n",
    "plt.figure(figsize=(12, 4))\n",
    "for k in range(5):\n",
    "    plt.subplot(2, 5, k+1)\n",
    "    plt.imshow(X_test[:, :, k]) # 원본 데이터\n",
    "\n",
    "    plt.subplot(2, 5, k+6)\n",
    "    plt.imshow(X_test[:, :, learning_result[k][0] - 1]) # 예측 데이터\n",
    "plt.show()"
   ]
  },
  {
   "cell_type": "code",
   "execution_count": null,
   "metadata": {},
   "outputs": [],
   "source": []
  }
 ],
 "metadata": {
  "kernelspec": {
   "display_name": "deeplearning",
   "language": "python",
   "name": "python3"
  },
  "language_info": {
   "codemirror_mode": {
    "name": "ipython",
    "version": 3
   },
   "file_extension": ".py",
   "mimetype": "text/x-python",
   "name": "python",
   "nbconvert_exporter": "python",
   "pygments_lexer": "ipython3",
   "version": "3.8.15"
  }
 },
 "nbformat": 4,
 "nbformat_minor": 2
}
