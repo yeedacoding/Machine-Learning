{
 "cells": [
  {
   "cell_type": "markdown",
   "metadata": {},
   "source": [
    "# One hot encoding - iris Classification"
   ]
  },
  {
   "cell_type": "markdown",
   "metadata": {},
   "source": [
    "## iris 데이터"
   ]
  },
  {
   "cell_type": "code",
   "execution_count": 6,
   "metadata": {},
   "outputs": [
    {
     "data": {
      "text/plain": [
       "150"
      ]
     },
     "execution_count": 6,
     "metadata": {},
     "output_type": "execute_result"
    }
   ],
   "source": [
    "from sklearn.datasets import load_iris\n",
    "\n",
    "iris = load_iris()\n",
    "\n",
    "x = iris.data\n",
    "y = iris.target\n",
    "\n",
    "len(y)"
   ]
  },
  {
   "cell_type": "markdown",
   "metadata": {},
   "source": [
    "## sklearn의 one-hot encoding"
   ]
  },
  {
   "cell_type": "code",
   "execution_count": 18,
   "metadata": {},
   "outputs": [
    {
     "name": "stderr",
     "output_type": "stream",
     "text": [
      "/Users/taeheon/miniforge3/envs/eda_study/lib/python3.8/site-packages/sklearn/preprocessing/_encoders.py:975: FutureWarning: `sparse` was renamed to `sparse_output` in version 1.2 and will be removed in 1.4. `sparse_output` is ignored unless you leave `sparse` to its default value.\n",
      "  warnings.warn(\n"
     ]
    },
    {
     "data": {
      "text/html": [
       "<style>#sk-container-id-2 {color: black;}#sk-container-id-2 pre{padding: 0;}#sk-container-id-2 div.sk-toggleable {background-color: white;}#sk-container-id-2 label.sk-toggleable__label {cursor: pointer;display: block;width: 100%;margin-bottom: 0;padding: 0.3em;box-sizing: border-box;text-align: center;}#sk-container-id-2 label.sk-toggleable__label-arrow:before {content: \"▸\";float: left;margin-right: 0.25em;color: #696969;}#sk-container-id-2 label.sk-toggleable__label-arrow:hover:before {color: black;}#sk-container-id-2 div.sk-estimator:hover label.sk-toggleable__label-arrow:before {color: black;}#sk-container-id-2 div.sk-toggleable__content {max-height: 0;max-width: 0;overflow: hidden;text-align: left;background-color: #f0f8ff;}#sk-container-id-2 div.sk-toggleable__content pre {margin: 0.2em;color: black;border-radius: 0.25em;background-color: #f0f8ff;}#sk-container-id-2 input.sk-toggleable__control:checked~div.sk-toggleable__content {max-height: 200px;max-width: 100%;overflow: auto;}#sk-container-id-2 input.sk-toggleable__control:checked~label.sk-toggleable__label-arrow:before {content: \"▾\";}#sk-container-id-2 div.sk-estimator input.sk-toggleable__control:checked~label.sk-toggleable__label {background-color: #d4ebff;}#sk-container-id-2 div.sk-label input.sk-toggleable__control:checked~label.sk-toggleable__label {background-color: #d4ebff;}#sk-container-id-2 input.sk-hidden--visually {border: 0;clip: rect(1px 1px 1px 1px);clip: rect(1px, 1px, 1px, 1px);height: 1px;margin: -1px;overflow: hidden;padding: 0;position: absolute;width: 1px;}#sk-container-id-2 div.sk-estimator {font-family: monospace;background-color: #f0f8ff;border: 1px dotted black;border-radius: 0.25em;box-sizing: border-box;margin-bottom: 0.5em;}#sk-container-id-2 div.sk-estimator:hover {background-color: #d4ebff;}#sk-container-id-2 div.sk-parallel-item::after {content: \"\";width: 100%;border-bottom: 1px solid gray;flex-grow: 1;}#sk-container-id-2 div.sk-label:hover label.sk-toggleable__label {background-color: #d4ebff;}#sk-container-id-2 div.sk-serial::before {content: \"\";position: absolute;border-left: 1px solid gray;box-sizing: border-box;top: 0;bottom: 0;left: 50%;z-index: 0;}#sk-container-id-2 div.sk-serial {display: flex;flex-direction: column;align-items: center;background-color: white;padding-right: 0.2em;padding-left: 0.2em;position: relative;}#sk-container-id-2 div.sk-item {position: relative;z-index: 1;}#sk-container-id-2 div.sk-parallel {display: flex;align-items: stretch;justify-content: center;background-color: white;position: relative;}#sk-container-id-2 div.sk-item::before, #sk-container-id-2 div.sk-parallel-item::before {content: \"\";position: absolute;border-left: 1px solid gray;box-sizing: border-box;top: 0;bottom: 0;left: 50%;z-index: -1;}#sk-container-id-2 div.sk-parallel-item {display: flex;flex-direction: column;z-index: 1;position: relative;background-color: white;}#sk-container-id-2 div.sk-parallel-item:first-child::after {align-self: flex-end;width: 50%;}#sk-container-id-2 div.sk-parallel-item:last-child::after {align-self: flex-start;width: 50%;}#sk-container-id-2 div.sk-parallel-item:only-child::after {width: 0;}#sk-container-id-2 div.sk-dashed-wrapped {border: 1px dashed gray;margin: 0 0.4em 0.5em 0.4em;box-sizing: border-box;padding-bottom: 0.4em;background-color: white;}#sk-container-id-2 div.sk-label label {font-family: monospace;font-weight: bold;display: inline-block;line-height: 1.2em;}#sk-container-id-2 div.sk-label-container {text-align: center;}#sk-container-id-2 div.sk-container {/* jupyter's `normalize.less` sets `[hidden] { display: none; }` but bootstrap.min.css set `[hidden] { display: none !important; }` so we also need the `!important` here to be able to override the default hidden behavior on the sphinx rendered scikit-learn.org. See: https://github.com/scikit-learn/scikit-learn/issues/21755 */display: inline-block !important;position: relative;}#sk-container-id-2 div.sk-text-repr-fallback {display: none;}</style><div id=\"sk-container-id-2\" class=\"sk-top-container\"><div class=\"sk-text-repr-fallback\"><pre>OneHotEncoder(handle_unknown=&#x27;ignore&#x27;, sparse=False, sparse_output=False)</pre><b>In a Jupyter environment, please rerun this cell to show the HTML representation or trust the notebook. <br />On GitHub, the HTML representation is unable to render, please try loading this page with nbviewer.org.</b></div><div class=\"sk-container\" hidden><div class=\"sk-item\"><div class=\"sk-estimator sk-toggleable\"><input class=\"sk-toggleable__control sk-hidden--visually\" id=\"sk-estimator-id-2\" type=\"checkbox\" checked><label for=\"sk-estimator-id-2\" class=\"sk-toggleable__label sk-toggleable__label-arrow\">OneHotEncoder</label><div class=\"sk-toggleable__content\"><pre>OneHotEncoder(handle_unknown=&#x27;ignore&#x27;, sparse=False, sparse_output=False)</pre></div></div></div></div></div>"
      ],
      "text/plain": [
       "OneHotEncoder(handle_unknown='ignore', sparse=False, sparse_output=False)"
      ]
     },
     "execution_count": 18,
     "metadata": {},
     "output_type": "execute_result"
    }
   ],
   "source": [
    "from sklearn.preprocessing import OneHotEncoder\n",
    "\n",
    "enc = OneHotEncoder(sparse=False, handle_unknown='ignore')\n",
    "enc.fit(y.reshape(len(y), 1))"
   ]
  },
  {
   "cell_type": "code",
   "execution_count": 19,
   "metadata": {},
   "outputs": [
    {
     "data": {
      "text/plain": [
       "[array([0, 1, 2])]"
      ]
     },
     "execution_count": 19,
     "metadata": {},
     "output_type": "execute_result"
    }
   ],
   "source": [
    "enc.categories_"
   ]
  },
  {
   "cell_type": "code",
   "execution_count": 20,
   "metadata": {},
   "outputs": [
    {
     "data": {
      "text/plain": [
       "(array([[1., 0., 0.],\n",
       "        [1., 0., 0.],\n",
       "        [1., 0., 0.],\n",
       "        [1., 0., 0.],\n",
       "        [1., 0., 0.]]),\n",
       " array([[0., 1., 0.],\n",
       "        [0., 1., 0.],\n",
       "        [0., 1., 0.],\n",
       "        [0., 1., 0.],\n",
       "        [0., 1., 0.]]),\n",
       " array([[0., 0., 1.],\n",
       "        [0., 0., 1.],\n",
       "        [0., 0., 1.],\n",
       "        [0., 0., 1.],\n",
       "        [0., 0., 1.]]))"
      ]
     },
     "execution_count": 20,
     "metadata": {},
     "output_type": "execute_result"
    }
   ],
   "source": [
    "y_onehot = enc.transform(y.reshape(len(y), 1))\n",
    "\n",
    "y_onehot[45:50], y_onehot[50:55], y_onehot[100:105]"
   ]
  },
  {
   "cell_type": "markdown",
   "metadata": {},
   "source": [
    "## 데이터 분할"
   ]
  },
  {
   "cell_type": "code",
   "execution_count": 21,
   "metadata": {},
   "outputs": [],
   "source": [
    "from sklearn.model_selection import train_test_split\n",
    "\n",
    "x_train, x_test, y_train, y_test = train_test_split(x, y_onehot,\n",
    "                                                    test_size=0.2,\n",
    "                                                    random_state=13)"
   ]
  },
  {
   "cell_type": "markdown",
   "metadata": {},
   "source": [
    "## 신경망 구성"
   ]
  },
  {
   "cell_type": "code",
   "execution_count": 22,
   "metadata": {},
   "outputs": [],
   "source": [
    "import tensorflow as tf\n",
    "\n",
    "model = tf.keras.Sequential([\n",
    "    tf.keras.layers.Dense(32, input_shape=(4,), activation='relu'),\n",
    "    tf.keras.layers.Dense(32, activation='relu'),\n",
    "    tf.keras.layers.Dense(32, activation='relu'),\n",
    "    tf.keras.layers.Dense(3, activation='softmax')\n",
    "])"
   ]
  },
  {
   "cell_type": "code",
   "execution_count": 15,
   "metadata": {},
   "outputs": [],
   "source": [
    "import tensorflow as tf\n",
    "\n",
    "model = tf.keras.models.Sequential([\n",
    "    tf.keras.layers.Dense(1, input_shape=(2,))\n",
    "])\n",
    "\n",
    "model.compile(optimizer='rmsprop', loss='mse')"
   ]
  },
  {
   "cell_type": "markdown",
   "metadata": {},
   "source": [
    "## compile"
   ]
  },
  {
   "cell_type": "code",
   "execution_count": 23,
   "metadata": {},
   "outputs": [
    {
     "name": "stdout",
     "output_type": "stream",
     "text": [
      "Model: \"sequential_3\"\n",
      "_________________________________________________________________\n",
      " Layer (type)                Output Shape              Param #   \n",
      "=================================================================\n",
      " dense_9 (Dense)             (None, 32)                160       \n",
      "                                                                 \n",
      " dense_10 (Dense)            (None, 32)                1056      \n",
      "                                                                 \n",
      " dense_11 (Dense)            (None, 32)                1056      \n",
      "                                                                 \n",
      " dense_12 (Dense)            (None, 3)                 99        \n",
      "                                                                 \n",
      "=================================================================\n",
      "Total params: 2371 (9.26 KB)\n",
      "Trainable params: 2371 (9.26 KB)\n",
      "Non-trainable params: 0 (0.00 Byte)\n",
      "_________________________________________________________________\n"
     ]
    }
   ],
   "source": [
    "model.compile(optimizer='adam', loss='categorical_crossentropy',\n",
    "              metrics=['accuracy'])\n",
    "model.summary()"
   ]
  },
  {
   "cell_type": "markdown",
   "metadata": {},
   "source": [
    "## train"
   ]
  },
  {
   "cell_type": "code",
   "execution_count": 24,
   "metadata": {},
   "outputs": [
    {
     "name": "stdout",
     "output_type": "stream",
     "text": [
      "Epoch 1/100\n",
      "4/4 [==============================] - 0s 2ms/step - loss: 1.2240 - accuracy: 0.4917\n",
      "Epoch 2/100\n",
      "4/4 [==============================] - 0s 1ms/step - loss: 1.0868 - accuracy: 0.6250\n",
      "Epoch 3/100\n",
      "4/4 [==============================] - 0s 1ms/step - loss: 0.9959 - accuracy: 0.6500\n",
      "Epoch 4/100\n",
      "4/4 [==============================] - 0s 1ms/step - loss: 0.9411 - accuracy: 0.6750\n",
      "Epoch 5/100\n",
      "4/4 [==============================] - 0s 1ms/step - loss: 0.8902 - accuracy: 0.8000\n",
      "Epoch 6/100\n",
      "4/4 [==============================] - 0s 1ms/step - loss: 0.8386 - accuracy: 0.8917\n",
      "Epoch 7/100\n",
      "4/4 [==============================] - 0s 1ms/step - loss: 0.7841 - accuracy: 0.9000\n",
      "Epoch 8/100\n",
      "4/4 [==============================] - 0s 2ms/step - loss: 0.7333 - accuracy: 0.8417\n",
      "Epoch 9/100\n",
      "4/4 [==============================] - 0s 1ms/step - loss: 0.6904 - accuracy: 0.7500\n",
      "Epoch 10/100\n",
      "4/4 [==============================] - 0s 1ms/step - loss: 0.6439 - accuracy: 0.8250\n",
      "Epoch 11/100\n",
      "4/4 [==============================] - 0s 1ms/step - loss: 0.6013 - accuracy: 0.9333\n",
      "Epoch 12/100\n",
      "4/4 [==============================] - 0s 1ms/step - loss: 0.5580 - accuracy: 0.9500\n",
      "Epoch 13/100\n",
      "4/4 [==============================] - 0s 1ms/step - loss: 0.5186 - accuracy: 0.9500\n",
      "Epoch 14/100\n",
      "4/4 [==============================] - 0s 1ms/step - loss: 0.4830 - accuracy: 0.9500\n",
      "Epoch 15/100\n",
      "4/4 [==============================] - 0s 1ms/step - loss: 0.4499 - accuracy: 0.9583\n",
      "Epoch 16/100\n",
      "4/4 [==============================] - 0s 2ms/step - loss: 0.4201 - accuracy: 0.9750\n",
      "Epoch 17/100\n",
      "4/4 [==============================] - 0s 1ms/step - loss: 0.3934 - accuracy: 0.9750\n",
      "Epoch 18/100\n",
      "4/4 [==============================] - 0s 1ms/step - loss: 0.3693 - accuracy: 0.9750\n",
      "Epoch 19/100\n",
      "4/4 [==============================] - 0s 1ms/step - loss: 0.3468 - accuracy: 0.9750\n",
      "Epoch 20/100\n",
      "4/4 [==============================] - 0s 1ms/step - loss: 0.3271 - accuracy: 0.9750\n",
      "Epoch 21/100\n",
      "4/4 [==============================] - 0s 1ms/step - loss: 0.3091 - accuracy: 0.9750\n",
      "Epoch 22/100\n",
      "4/4 [==============================] - 0s 2ms/step - loss: 0.2930 - accuracy: 0.9750\n",
      "Epoch 23/100\n",
      "4/4 [==============================] - 0s 1ms/step - loss: 0.2790 - accuracy: 0.9750\n",
      "Epoch 24/100\n",
      "4/4 [==============================] - 0s 1ms/step - loss: 0.2642 - accuracy: 0.9750\n",
      "Epoch 25/100\n",
      "4/4 [==============================] - 0s 1ms/step - loss: 0.2514 - accuracy: 0.9750\n",
      "Epoch 26/100\n",
      "4/4 [==============================] - 0s 1ms/step - loss: 0.2363 - accuracy: 0.9750\n",
      "Epoch 27/100\n",
      "4/4 [==============================] - 0s 1ms/step - loss: 0.2233 - accuracy: 0.9833\n",
      "Epoch 28/100\n",
      "4/4 [==============================] - 0s 1ms/step - loss: 0.2079 - accuracy: 0.9750\n",
      "Epoch 29/100\n",
      "4/4 [==============================] - 0s 1ms/step - loss: 0.1974 - accuracy: 0.9667\n",
      "Epoch 30/100\n",
      "4/4 [==============================] - 0s 1ms/step - loss: 0.1865 - accuracy: 0.9750\n",
      "Epoch 31/100\n",
      "4/4 [==============================] - 0s 1ms/step - loss: 0.1781 - accuracy: 0.9750\n",
      "Epoch 32/100\n",
      "4/4 [==============================] - 0s 961us/step - loss: 0.1707 - accuracy: 0.9750\n",
      "Epoch 33/100\n",
      "4/4 [==============================] - 0s 1ms/step - loss: 0.1623 - accuracy: 0.9750\n",
      "Epoch 34/100\n",
      "4/4 [==============================] - 0s 1ms/step - loss: 0.1545 - accuracy: 0.9750\n",
      "Epoch 35/100\n",
      "4/4 [==============================] - 0s 1ms/step - loss: 0.1533 - accuracy: 0.9750\n",
      "Epoch 36/100\n",
      "4/4 [==============================] - 0s 997us/step - loss: 0.1416 - accuracy: 0.9750\n",
      "Epoch 37/100\n",
      "4/4 [==============================] - 0s 10ms/step - loss: 0.1451 - accuracy: 0.9667\n",
      "Epoch 38/100\n",
      "4/4 [==============================] - 0s 2ms/step - loss: 0.1314 - accuracy: 0.9917\n",
      "Epoch 39/100\n",
      "4/4 [==============================] - 0s 2ms/step - loss: 0.1328 - accuracy: 0.9667\n",
      "Epoch 40/100\n",
      "4/4 [==============================] - 0s 2ms/step - loss: 0.1268 - accuracy: 0.9833\n",
      "Epoch 41/100\n",
      "4/4 [==============================] - 0s 1ms/step - loss: 0.1205 - accuracy: 0.9833\n",
      "Epoch 42/100\n",
      "4/4 [==============================] - 0s 1ms/step - loss: 0.1197 - accuracy: 0.9750\n",
      "Epoch 43/100\n",
      "4/4 [==============================] - 0s 1ms/step - loss: 0.1171 - accuracy: 0.9750\n",
      "Epoch 44/100\n",
      "4/4 [==============================] - 0s 1ms/step - loss: 0.1093 - accuracy: 0.9833\n",
      "Epoch 45/100\n",
      "4/4 [==============================] - 0s 1ms/step - loss: 0.1093 - accuracy: 0.9750\n",
      "Epoch 46/100\n",
      "4/4 [==============================] - 0s 1ms/step - loss: 0.1048 - accuracy: 0.9750\n",
      "Epoch 47/100\n",
      "4/4 [==============================] - 0s 1ms/step - loss: 0.1018 - accuracy: 0.9833\n",
      "Epoch 48/100\n",
      "4/4 [==============================] - 0s 1ms/step - loss: 0.1001 - accuracy: 0.9750\n",
      "Epoch 49/100\n",
      "4/4 [==============================] - 0s 3ms/step - loss: 0.0969 - accuracy: 0.9750\n",
      "Epoch 50/100\n",
      "4/4 [==============================] - 0s 1ms/step - loss: 0.0947 - accuracy: 0.9750\n",
      "Epoch 51/100\n",
      "4/4 [==============================] - 0s 2ms/step - loss: 0.0940 - accuracy: 0.9750\n",
      "Epoch 52/100\n",
      "4/4 [==============================] - 0s 1ms/step - loss: 0.0906 - accuracy: 0.9750\n",
      "Epoch 53/100\n",
      "4/4 [==============================] - 0s 1ms/step - loss: 0.0898 - accuracy: 0.9750\n",
      "Epoch 54/100\n",
      "4/4 [==============================] - 0s 1ms/step - loss: 0.0920 - accuracy: 0.9917\n",
      "Epoch 55/100\n",
      "4/4 [==============================] - 0s 1ms/step - loss: 0.0863 - accuracy: 0.9750\n",
      "Epoch 56/100\n",
      "4/4 [==============================] - 0s 2ms/step - loss: 0.0848 - accuracy: 0.9750\n",
      "Epoch 57/100\n",
      "4/4 [==============================] - 0s 1ms/step - loss: 0.0836 - accuracy: 0.9750\n",
      "Epoch 58/100\n",
      "4/4 [==============================] - 0s 2ms/step - loss: 0.0825 - accuracy: 0.9750\n",
      "Epoch 59/100\n",
      "4/4 [==============================] - 0s 1ms/step - loss: 0.0813 - accuracy: 0.9833\n",
      "Epoch 60/100\n",
      "4/4 [==============================] - 0s 2ms/step - loss: 0.0871 - accuracy: 0.9750\n",
      "Epoch 61/100\n",
      "4/4 [==============================] - 0s 1ms/step - loss: 0.0860 - accuracy: 0.9750\n",
      "Epoch 62/100\n",
      "4/4 [==============================] - 0s 2ms/step - loss: 0.0793 - accuracy: 0.9833\n",
      "Epoch 63/100\n",
      "4/4 [==============================] - 0s 1ms/step - loss: 0.0773 - accuracy: 0.9750\n",
      "Epoch 64/100\n",
      "4/4 [==============================] - 0s 2ms/step - loss: 0.0781 - accuracy: 0.9750\n",
      "Epoch 65/100\n",
      "4/4 [==============================] - 0s 1ms/step - loss: 0.0752 - accuracy: 0.9750\n",
      "Epoch 66/100\n",
      "4/4 [==============================] - 0s 1ms/step - loss: 0.0818 - accuracy: 0.9750\n",
      "Epoch 67/100\n",
      "4/4 [==============================] - 0s 4ms/step - loss: 0.0752 - accuracy: 0.9833\n",
      "Epoch 68/100\n",
      "4/4 [==============================] - 0s 2ms/step - loss: 0.0777 - accuracy: 0.9750\n",
      "Epoch 69/100\n",
      "4/4 [==============================] - 0s 2ms/step - loss: 0.0712 - accuracy: 0.9833\n",
      "Epoch 70/100\n",
      "4/4 [==============================] - 0s 2ms/step - loss: 0.0739 - accuracy: 0.9917\n",
      "Epoch 71/100\n",
      "4/4 [==============================] - 0s 1ms/step - loss: 0.0726 - accuracy: 0.9833\n",
      "Epoch 72/100\n",
      "4/4 [==============================] - 0s 3ms/step - loss: 0.0706 - accuracy: 0.9917\n",
      "Epoch 73/100\n",
      "4/4 [==============================] - 0s 1ms/step - loss: 0.0714 - accuracy: 0.9833\n",
      "Epoch 74/100\n",
      "4/4 [==============================] - 0s 2ms/step - loss: 0.0692 - accuracy: 0.9917\n",
      "Epoch 75/100\n",
      "4/4 [==============================] - 0s 2ms/step - loss: 0.0713 - accuracy: 0.9750\n",
      "Epoch 76/100\n",
      "4/4 [==============================] - 0s 2ms/step - loss: 0.0678 - accuracy: 0.9750\n",
      "Epoch 77/100\n",
      "4/4 [==============================] - 0s 2ms/step - loss: 0.0676 - accuracy: 0.9833\n",
      "Epoch 78/100\n",
      "4/4 [==============================] - 0s 3ms/step - loss: 0.0675 - accuracy: 0.9750\n",
      "Epoch 79/100\n",
      "4/4 [==============================] - 0s 2ms/step - loss: 0.0702 - accuracy: 0.9750\n",
      "Epoch 80/100\n",
      "4/4 [==============================] - 0s 2ms/step - loss: 0.0670 - accuracy: 0.9917\n",
      "Epoch 81/100\n",
      "4/4 [==============================] - 0s 2ms/step - loss: 0.0700 - accuracy: 0.9750\n",
      "Epoch 82/100\n",
      "4/4 [==============================] - 0s 2ms/step - loss: 0.0656 - accuracy: 0.9917\n",
      "Epoch 83/100\n",
      "4/4 [==============================] - 0s 2ms/step - loss: 0.0683 - accuracy: 0.9750\n",
      "Epoch 84/100\n",
      "4/4 [==============================] - 0s 2ms/step - loss: 0.0691 - accuracy: 0.9833\n",
      "Epoch 85/100\n",
      "4/4 [==============================] - 0s 2ms/step - loss: 0.0685 - accuracy: 0.9667\n",
      "Epoch 86/100\n",
      "4/4 [==============================] - 0s 2ms/step - loss: 0.0703 - accuracy: 0.9750\n",
      "Epoch 87/100\n",
      "4/4 [==============================] - 0s 2ms/step - loss: 0.0690 - accuracy: 0.9750\n",
      "Epoch 88/100\n",
      "4/4 [==============================] - 0s 2ms/step - loss: 0.0661 - accuracy: 0.9833\n",
      "Epoch 89/100\n",
      "4/4 [==============================] - 0s 2ms/step - loss: 0.0653 - accuracy: 0.9833\n",
      "Epoch 90/100\n",
      "4/4 [==============================] - 0s 3ms/step - loss: 0.0740 - accuracy: 0.9833\n",
      "Epoch 91/100\n",
      "4/4 [==============================] - 0s 2ms/step - loss: 0.0673 - accuracy: 0.9833\n",
      "Epoch 92/100\n",
      "4/4 [==============================] - 0s 2ms/step - loss: 0.0637 - accuracy: 0.9750\n",
      "Epoch 93/100\n",
      "4/4 [==============================] - 0s 2ms/step - loss: 0.0661 - accuracy: 0.9750\n",
      "Epoch 94/100\n",
      "4/4 [==============================] - 0s 2ms/step - loss: 0.0632 - accuracy: 0.9750\n",
      "Epoch 95/100\n",
      "4/4 [==============================] - 0s 2ms/step - loss: 0.0636 - accuracy: 0.9833\n",
      "Epoch 96/100\n",
      "4/4 [==============================] - 0s 2ms/step - loss: 0.0632 - accuracy: 0.9833\n",
      "Epoch 97/100\n",
      "4/4 [==============================] - 0s 2ms/step - loss: 0.0600 - accuracy: 0.9833\n",
      "Epoch 98/100\n",
      "4/4 [==============================] - 0s 2ms/step - loss: 0.0641 - accuracy: 0.9750\n",
      "Epoch 99/100\n",
      "4/4 [==============================] - 0s 23ms/step - loss: 0.0613 - accuracy: 0.9833\n",
      "Epoch 100/100\n",
      "4/4 [==============================] - 0s 4ms/step - loss: 0.0604 - accuracy: 0.9833\n"
     ]
    }
   ],
   "source": [
    "hist = model.fit(x_train, y_train, epochs=100)"
   ]
  },
  {
   "cell_type": "code",
   "execution_count": 25,
   "metadata": {},
   "outputs": [
    {
     "name": "stdout",
     "output_type": "stream",
     "text": [
      "1/1 - 0s - loss: 0.1028 - accuracy: 0.9667 - 135ms/epoch - 135ms/step\n"
     ]
    },
    {
     "data": {
      "text/plain": [
       "[0.10279793292284012, 0.9666666388511658]"
      ]
     },
     "execution_count": 25,
     "metadata": {},
     "output_type": "execute_result"
    }
   ],
   "source": [
    "model.evaluate(x_test, y_test, verbose=2)"
   ]
  },
  {
   "cell_type": "markdown",
   "metadata": {},
   "source": [
    "## loss, accuracy 시각화"
   ]
  },
  {
   "cell_type": "code",
   "execution_count": 32,
   "metadata": {},
   "outputs": [
    {
     "data": {
      "text/plain": [
       "<matplotlib.legend.Legend at 0x317704a00>"
      ]
     },
     "execution_count": 32,
     "metadata": {},
     "output_type": "execute_result"
    },
    {
     "data": {
      "image/png": "[encoded data removed]",
      "text/plain": [
       "<Figure size 640x480 with 1 Axes>"
      ]
     },
     "metadata": {},
     "output_type": "display_data"
    }
   ],
   "source": [
    "import matplotlib.pyplot as plt\n",
    "\n",
    "plt.plot(hist.history['loss'])\n",
    "plt.plot(hist.history['accuracy'])\n",
    "plt.legend(['loss', 'accuracy'])"
   ]
  },
  {
   "cell_type": "code",
   "execution_count": null,
   "metadata": {},
   "outputs": [],
   "source": []
  }
 ],
 "metadata": {
  "kernelspec": {
   "display_name": "eda_study",
   "language": "python",
   "name": "python3"
  },
  "language_info": {
   "codemirror_mode": {
    "name": "ipython",
    "version": 3
   },
   "file_extension": ".py",
   "mimetype": "text/x-python",
   "name": "python",
   "nbconvert_exporter": "python",
   "pygments_lexer": "ipython3",
   "version": "3.8.19"
  }
 },
 "nbformat": 4,
 "nbformat_minor": 2
}
